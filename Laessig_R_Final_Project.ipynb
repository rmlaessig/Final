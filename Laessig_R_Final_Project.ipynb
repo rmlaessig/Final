{
 "cells": [
  {
   "cell_type": "markdown",
   "metadata": {},
   "source": [
    "**K-State Honor Code:** \"On my honor, as a student, I have neither given nor received unauthorized aid on this academic work.\" - R. Laessig"
   ]
  },
  {
   "cell_type": "code",
   "execution_count": 1,
   "metadata": {},
   "outputs": [],
   "source": [
    "#Importing packages\n",
    "import pandas as pd\n",
    "import numpy as np\n",
    "import seaborn as sns\n",
    "import matplotlib.pyplot as plt\n",
    "%matplotlib inline\n",
    "\n",
    "#regression packages\n",
    "import sklearn.linear_model as lm\n",
    "from sklearn.metrics import mean_squared_error\n",
    "from sklearn.metrics import explained_variance_score\n",
    "\n",
    "#lasso regression\n",
    "from sklearn import linear_model\n",
    "\n",
    "#f_regression (feature selection)\n",
    "from sklearn.feature_selection import f_regression\n",
    "from sklearn.feature_selection import SelectKBest\n",
    "\n",
    "# recursive feature selection (feature selection)\n",
    "from sklearn.feature_selection import RFE\n",
    "\n",
    "import statsmodels.api as sm\n",
    "from statsmodels.formula.api import ols"
   ]
  },
  {
   "cell_type": "code",
   "execution_count": 2,
   "metadata": {
    "scrolled": false
   },
   "outputs": [
    {
     "data": {
      "text/html": [
       "<div>\n",
       "<style scoped>\n",
       "    .dataframe tbody tr th:only-of-type {\n",
       "        vertical-align: middle;\n",
       "    }\n",
       "\n",
       "    .dataframe tbody tr th {\n",
       "        vertical-align: top;\n",
       "    }\n",
       "\n",
       "    .dataframe thead th {\n",
       "        text-align: right;\n",
       "    }\n",
       "</style>\n",
       "<table border=\"1\" class=\"dataframe\">\n",
       "  <thead>\n",
       "    <tr style=\"text-align: right;\">\n",
       "      <th></th>\n",
       "      <th>actor_1_facebook_likes</th>\n",
       "      <th>actor_1_name</th>\n",
       "      <th>actor_2_facebook_likes</th>\n",
       "      <th>actor_2_name</th>\n",
       "      <th>actor_3_facebook_likes</th>\n",
       "      <th>actor_3_name</th>\n",
       "      <th>aspect_ratio</th>\n",
       "      <th>budget</th>\n",
       "      <th>cast_total_facebook_likes</th>\n",
       "      <th>color</th>\n",
       "      <th>...</th>\n",
       "      <th>imdb_score</th>\n",
       "      <th>language</th>\n",
       "      <th>movie_facebook_likes</th>\n",
       "      <th>movie_imdb_link</th>\n",
       "      <th>movie_title</th>\n",
       "      <th>num_critic_for_reviews</th>\n",
       "      <th>num_user_for_reviews</th>\n",
       "      <th>num_voted_users</th>\n",
       "      <th>plot_keywords</th>\n",
       "      <th>title_year</th>\n",
       "    </tr>\n",
       "  </thead>\n",
       "  <tbody>\n",
       "    <tr>\n",
       "      <th>0</th>\n",
       "      <td>1000.0</td>\n",
       "      <td>CCH Pounder</td>\n",
       "      <td>936.0</td>\n",
       "      <td>Joel David Moore</td>\n",
       "      <td>855.0</td>\n",
       "      <td>Wes Studi</td>\n",
       "      <td>1.78</td>\n",
       "      <td>237000000.0</td>\n",
       "      <td>4834</td>\n",
       "      <td>Color</td>\n",
       "      <td>...</td>\n",
       "      <td>7.9</td>\n",
       "      <td>English</td>\n",
       "      <td>33000</td>\n",
       "      <td>http://www.imdb.com/title/tt0499549/?ref_=fn_t...</td>\n",
       "      <td>Avatar</td>\n",
       "      <td>723.0</td>\n",
       "      <td>3054.0</td>\n",
       "      <td>886204</td>\n",
       "      <td>avatar|future|marine|native|paraplegic</td>\n",
       "      <td>2009.0</td>\n",
       "    </tr>\n",
       "    <tr>\n",
       "      <th>1</th>\n",
       "      <td>40000.0</td>\n",
       "      <td>Johnny Depp</td>\n",
       "      <td>5000.0</td>\n",
       "      <td>Orlando Bloom</td>\n",
       "      <td>1000.0</td>\n",
       "      <td>Jack Davenport</td>\n",
       "      <td>2.35</td>\n",
       "      <td>300000000.0</td>\n",
       "      <td>48350</td>\n",
       "      <td>Color</td>\n",
       "      <td>...</td>\n",
       "      <td>7.1</td>\n",
       "      <td>English</td>\n",
       "      <td>0</td>\n",
       "      <td>http://www.imdb.com/title/tt0449088/?ref_=fn_t...</td>\n",
       "      <td>Pirates of the Caribbean: At World's End</td>\n",
       "      <td>302.0</td>\n",
       "      <td>1238.0</td>\n",
       "      <td>471220</td>\n",
       "      <td>goddess|marriage ceremony|marriage proposal|pi...</td>\n",
       "      <td>2007.0</td>\n",
       "    </tr>\n",
       "  </tbody>\n",
       "</table>\n",
       "<p>2 rows × 28 columns</p>\n",
       "</div>"
      ],
      "text/plain": [
       "   actor_1_facebook_likes actor_1_name  actor_2_facebook_likes  \\\n",
       "0                  1000.0  CCH Pounder                   936.0   \n",
       "1                 40000.0  Johnny Depp                  5000.0   \n",
       "\n",
       "       actor_2_name  actor_3_facebook_likes    actor_3_name  aspect_ratio  \\\n",
       "0  Joel David Moore                   855.0       Wes Studi          1.78   \n",
       "1     Orlando Bloom                  1000.0  Jack Davenport          2.35   \n",
       "\n",
       "        budget  cast_total_facebook_likes  color    ...     imdb_score  \\\n",
       "0  237000000.0                       4834  Color    ...            7.9   \n",
       "1  300000000.0                      48350  Color    ...            7.1   \n",
       "\n",
       "  language  movie_facebook_likes  \\\n",
       "0  English                 33000   \n",
       "1  English                     0   \n",
       "\n",
       "                                     movie_imdb_link  \\\n",
       "0  http://www.imdb.com/title/tt0499549/?ref_=fn_t...   \n",
       "1  http://www.imdb.com/title/tt0449088/?ref_=fn_t...   \n",
       "\n",
       "                                 movie_title  num_critic_for_reviews  \\\n",
       "0                                    Avatar                    723.0   \n",
       "1  Pirates of the Caribbean: At World's End                    302.0   \n",
       "\n",
       "  num_user_for_reviews  num_voted_users  \\\n",
       "0               3054.0           886204   \n",
       "1               1238.0           471220   \n",
       "\n",
       "                                       plot_keywords title_year  \n",
       "0             avatar|future|marine|native|paraplegic     2009.0  \n",
       "1  goddess|marriage ceremony|marriage proposal|pi...     2007.0  \n",
       "\n",
       "[2 rows x 28 columns]"
      ]
     },
     "execution_count": 2,
     "metadata": {},
     "output_type": "execute_result"
    }
   ],
   "source": [
    "#Get data\n",
    "df=pd.read_csv(\"movie_metadata.csv\")\n",
    "df = df.sort_index(axis=1)\n",
    "df.head(2)"
   ]
  },
  {
   "cell_type": "code",
   "execution_count": 3,
   "metadata": {
    "scrolled": true
   },
   "outputs": [
    {
     "data": {
      "text/plain": [
       "actor_1_facebook_likes         7\n",
       "actor_1_name                   7\n",
       "actor_2_facebook_likes        13\n",
       "actor_2_name                  13\n",
       "actor_3_facebook_likes        23\n",
       "actor_3_name                  23\n",
       "aspect_ratio                 329\n",
       "budget                       492\n",
       "cast_total_facebook_likes      0\n",
       "color                         19\n",
       "content_rating               303\n",
       "country                        5\n",
       "director_facebook_likes      104\n",
       "director_name                104\n",
       "duration                      15\n",
       "facenumber_in_poster          13\n",
       "genres                         0\n",
       "gross                        884\n",
       "imdb_score                     0\n",
       "language                      12\n",
       "movie_facebook_likes           0\n",
       "movie_imdb_link                0\n",
       "movie_title                    0\n",
       "num_critic_for_reviews        50\n",
       "num_user_for_reviews          21\n",
       "num_voted_users                0\n",
       "plot_keywords                153\n",
       "title_year                   108\n",
       "dtype: int64"
      ]
     },
     "execution_count": 3,
     "metadata": {},
     "output_type": "execute_result"
    }
   ],
   "source": [
    "#How many missing values?\n",
    "df = df.sort_index(axis=1)\n",
    "df.isnull().sum()"
   ]
  },
  {
   "cell_type": "markdown",
   "metadata": {},
   "source": [
    "* Aspect_ratio, director_facebook_likes, director_name, plot_keywords, and title year have a lot of blank cells. I can't think of a reason for these columns to have a high number of missing values. They should be dropped.\n",
    "* Budget, content_rating, gross, num_critic_for_reviews, and num_user_for_reviews have a lot of missing values, but the high number of missing values for these variables are easier to explain (i.e. 0 budget, no content rating, no critics reviewed, etc.). Those fields should be looked at."
   ]
  },
  {
   "cell_type": "code",
   "execution_count": 4,
   "metadata": {
    "scrolled": true
   },
   "outputs": [
    {
     "data": {
      "text/html": [
       "<div>\n",
       "<style scoped>\n",
       "    .dataframe tbody tr th:only-of-type {\n",
       "        vertical-align: middle;\n",
       "    }\n",
       "\n",
       "    .dataframe tbody tr th {\n",
       "        vertical-align: top;\n",
       "    }\n",
       "\n",
       "    .dataframe thead th {\n",
       "        text-align: right;\n",
       "    }\n",
       "</style>\n",
       "<table border=\"1\" class=\"dataframe\">\n",
       "  <thead>\n",
       "    <tr style=\"text-align: right;\">\n",
       "      <th></th>\n",
       "      <th>actor_1_facebook_likes</th>\n",
       "      <th>actor_1_name</th>\n",
       "      <th>actor_2_facebook_likes</th>\n",
       "      <th>actor_2_name</th>\n",
       "      <th>budget</th>\n",
       "      <th>cast_total_facebook_likes</th>\n",
       "      <th>content_rating</th>\n",
       "      <th>duration</th>\n",
       "      <th>facenumber_in_poster</th>\n",
       "      <th>genres</th>\n",
       "      <th>gross</th>\n",
       "      <th>imdb_score</th>\n",
       "      <th>movie_facebook_likes</th>\n",
       "      <th>movie_title</th>\n",
       "      <th>num_critic_for_reviews</th>\n",
       "      <th>num_user_for_reviews</th>\n",
       "      <th>num_voted_users</th>\n",
       "    </tr>\n",
       "  </thead>\n",
       "  <tbody>\n",
       "    <tr>\n",
       "      <th>0</th>\n",
       "      <td>1000.0</td>\n",
       "      <td>CCH Pounder</td>\n",
       "      <td>936.0</td>\n",
       "      <td>Joel David Moore</td>\n",
       "      <td>237000000.0</td>\n",
       "      <td>4834</td>\n",
       "      <td>PG-13</td>\n",
       "      <td>178.0</td>\n",
       "      <td>0.0</td>\n",
       "      <td>Action|Adventure|Fantasy|Sci-Fi</td>\n",
       "      <td>760505847.0</td>\n",
       "      <td>7.9</td>\n",
       "      <td>33000</td>\n",
       "      <td>Avatar</td>\n",
       "      <td>723.0</td>\n",
       "      <td>3054.0</td>\n",
       "      <td>886204</td>\n",
       "    </tr>\n",
       "    <tr>\n",
       "      <th>1</th>\n",
       "      <td>40000.0</td>\n",
       "      <td>Johnny Depp</td>\n",
       "      <td>5000.0</td>\n",
       "      <td>Orlando Bloom</td>\n",
       "      <td>300000000.0</td>\n",
       "      <td>48350</td>\n",
       "      <td>PG-13</td>\n",
       "      <td>169.0</td>\n",
       "      <td>0.0</td>\n",
       "      <td>Action|Adventure|Fantasy</td>\n",
       "      <td>309404152.0</td>\n",
       "      <td>7.1</td>\n",
       "      <td>0</td>\n",
       "      <td>Pirates of the Caribbean: At World's End</td>\n",
       "      <td>302.0</td>\n",
       "      <td>1238.0</td>\n",
       "      <td>471220</td>\n",
       "    </tr>\n",
       "  </tbody>\n",
       "</table>\n",
       "</div>"
      ],
      "text/plain": [
       "   actor_1_facebook_likes actor_1_name  actor_2_facebook_likes  \\\n",
       "0                  1000.0  CCH Pounder                   936.0   \n",
       "1                 40000.0  Johnny Depp                  5000.0   \n",
       "\n",
       "       actor_2_name       budget  cast_total_facebook_likes content_rating  \\\n",
       "0  Joel David Moore  237000000.0                       4834          PG-13   \n",
       "1     Orlando Bloom  300000000.0                      48350          PG-13   \n",
       "\n",
       "   duration  facenumber_in_poster                           genres  \\\n",
       "0     178.0                   0.0  Action|Adventure|Fantasy|Sci-Fi   \n",
       "1     169.0                   0.0         Action|Adventure|Fantasy   \n",
       "\n",
       "         gross  imdb_score  movie_facebook_likes  \\\n",
       "0  760505847.0         7.9                 33000   \n",
       "1  309404152.0         7.1                     0   \n",
       "\n",
       "                                 movie_title  num_critic_for_reviews  \\\n",
       "0                                    Avatar                    723.0   \n",
       "1  Pirates of the Caribbean: At World's End                    302.0   \n",
       "\n",
       "   num_user_for_reviews  num_voted_users  \n",
       "0                3054.0           886204  \n",
       "1                1238.0           471220  "
      ]
     },
     "execution_count": 4,
     "metadata": {},
     "output_type": "execute_result"
    }
   ],
   "source": [
    "# remove  columns\n",
    "df = df.drop(['actor_3_name', 'actor_3_facebook_likes', 'color', 'director_name', 'director_facebook_likes', 'language', 'country', 'aspect_ratio', 'movie_imdb_link', 'title_year', 'plot_keywords'], axis=1)\n",
    "df.head(2)"
   ]
  },
  {
   "cell_type": "code",
   "execution_count": 5,
   "metadata": {
    "scrolled": true
   },
   "outputs": [
    {
     "data": {
      "text/html": [
       "<div>\n",
       "<style scoped>\n",
       "    .dataframe tbody tr th:only-of-type {\n",
       "        vertical-align: middle;\n",
       "    }\n",
       "\n",
       "    .dataframe tbody tr th {\n",
       "        vertical-align: top;\n",
       "    }\n",
       "\n",
       "    .dataframe thead th {\n",
       "        text-align: right;\n",
       "    }\n",
       "</style>\n",
       "<table border=\"1\" class=\"dataframe\">\n",
       "  <thead>\n",
       "    <tr style=\"text-align: right;\">\n",
       "      <th></th>\n",
       "      <th>act1_likes</th>\n",
       "      <th>act1</th>\n",
       "      <th>act2_likes</th>\n",
       "      <th>act2</th>\n",
       "      <th>budget</th>\n",
       "      <th>cast_likes</th>\n",
       "      <th>rating</th>\n",
       "      <th>dur</th>\n",
       "      <th>facenumber</th>\n",
       "      <th>genres</th>\n",
       "      <th>gross</th>\n",
       "      <th>imdb_score</th>\n",
       "      <th>movie_likes</th>\n",
       "      <th>movie</th>\n",
       "      <th>critic_reviews</th>\n",
       "      <th>user_reviews</th>\n",
       "      <th>voted_users</th>\n",
       "    </tr>\n",
       "  </thead>\n",
       "  <tbody>\n",
       "    <tr>\n",
       "      <th>0</th>\n",
       "      <td>1000.0</td>\n",
       "      <td>CCH Pounder</td>\n",
       "      <td>936.0</td>\n",
       "      <td>Joel David Moore</td>\n",
       "      <td>237000000.0</td>\n",
       "      <td>4834</td>\n",
       "      <td>PG-13</td>\n",
       "      <td>178.0</td>\n",
       "      <td>0.0</td>\n",
       "      <td>Action|Adventure|Fantasy|Sci-Fi</td>\n",
       "      <td>760505847.0</td>\n",
       "      <td>7.9</td>\n",
       "      <td>33000</td>\n",
       "      <td>Avatar</td>\n",
       "      <td>723.0</td>\n",
       "      <td>3054.0</td>\n",
       "      <td>886204</td>\n",
       "    </tr>\n",
       "    <tr>\n",
       "      <th>1</th>\n",
       "      <td>40000.0</td>\n",
       "      <td>Johnny Depp</td>\n",
       "      <td>5000.0</td>\n",
       "      <td>Orlando Bloom</td>\n",
       "      <td>300000000.0</td>\n",
       "      <td>48350</td>\n",
       "      <td>PG-13</td>\n",
       "      <td>169.0</td>\n",
       "      <td>0.0</td>\n",
       "      <td>Action|Adventure|Fantasy</td>\n",
       "      <td>309404152.0</td>\n",
       "      <td>7.1</td>\n",
       "      <td>0</td>\n",
       "      <td>Pirates of the Caribbean: At World's End</td>\n",
       "      <td>302.0</td>\n",
       "      <td>1238.0</td>\n",
       "      <td>471220</td>\n",
       "    </tr>\n",
       "  </tbody>\n",
       "</table>\n",
       "</div>"
      ],
      "text/plain": [
       "   act1_likes         act1  act2_likes              act2       budget  \\\n",
       "0      1000.0  CCH Pounder       936.0  Joel David Moore  237000000.0   \n",
       "1     40000.0  Johnny Depp      5000.0     Orlando Bloom  300000000.0   \n",
       "\n",
       "   cast_likes rating    dur  facenumber                           genres  \\\n",
       "0        4834  PG-13  178.0         0.0  Action|Adventure|Fantasy|Sci-Fi   \n",
       "1       48350  PG-13  169.0         0.0         Action|Adventure|Fantasy   \n",
       "\n",
       "         gross  imdb_score  movie_likes  \\\n",
       "0  760505847.0         7.9        33000   \n",
       "1  309404152.0         7.1            0   \n",
       "\n",
       "                                       movie  critic_reviews  user_reviews  \\\n",
       "0                                    Avatar            723.0        3054.0   \n",
       "1  Pirates of the Caribbean: At World's End            302.0        1238.0   \n",
       "\n",
       "   voted_users  \n",
       "0       886204  \n",
       "1       471220  "
      ]
     },
     "execution_count": 5,
     "metadata": {},
     "output_type": "execute_result"
    }
   ],
   "source": [
    "# rename columns\n",
    "df = df.rename(columns={'actor_1_facebook_likes':'act1_likes', 'actor_1_name':'act1', 'actor_2_facebook_likes':'act2_likes', 'actor_2_name':'act2',\n",
    "                       'cast_total_facebook_likes':'cast_likes', 'content_rating':'rating', 'duration':'dur', 'facenumber_in_poster':'facenumber',\n",
    "                       'movie_facebook_likes':'movie_likes', 'movie_title':'movie', 'num_critic_for_reviews':'critic_reviews', 'num_user_for_reviews':'user_reviews',\n",
    "                       'num_voted_users':'voted_users'})\n",
    "df.head(2)"
   ]
  },
  {
   "cell_type": "code",
   "execution_count": 6,
   "metadata": {
    "scrolled": false
   },
   "outputs": [
    {
     "data": {
      "text/plain": [
       "act1                7\n",
       "act1_likes          7\n",
       "act2               13\n",
       "act2_likes         13\n",
       "budget            492\n",
       "cast_likes          0\n",
       "critic_reviews     50\n",
       "dur                15\n",
       "facenumber         13\n",
       "genres              0\n",
       "gross             884\n",
       "imdb_score          0\n",
       "movie               0\n",
       "movie_likes         0\n",
       "rating            303\n",
       "user_reviews       21\n",
       "voted_users         0\n",
       "dtype: int64"
      ]
     },
     "execution_count": 6,
     "metadata": {},
     "output_type": "execute_result"
    }
   ],
   "source": [
    "#How many missing values?\n",
    "df = df.sort_index(axis=1)\n",
    "df.isnull().sum()"
   ]
  },
  {
   "cell_type": "code",
   "execution_count": 7,
   "metadata": {
    "scrolled": true
   },
   "outputs": [
    {
     "name": "stdout",
     "output_type": "stream",
     "text": [
      "<class 'pandas.core.frame.DataFrame'>\n",
      "Int64Index: 3831 entries, 0 to 5042\n",
      "Data columns (total 17 columns):\n",
      "act1              3831 non-null object\n",
      "act1_likes        3831 non-null float64\n",
      "act2              3831 non-null object\n",
      "act2_likes        3831 non-null float64\n",
      "budget            3831 non-null float64\n",
      "cast_likes        3831 non-null int64\n",
      "critic_reviews    3831 non-null float64\n",
      "dur               3831 non-null float64\n",
      "facenumber        3831 non-null float64\n",
      "genres            3831 non-null object\n",
      "gross             3831 non-null float64\n",
      "imdb_score        3831 non-null float64\n",
      "movie             3831 non-null object\n",
      "movie_likes       3831 non-null int64\n",
      "rating            3831 non-null object\n",
      "user_reviews      3831 non-null float64\n",
      "voted_users       3831 non-null int64\n",
      "dtypes: float64(9), int64(3), object(5)\n",
      "memory usage: 538.7+ KB\n"
     ]
    }
   ],
   "source": [
    "#handling missing value: remove the rows with any missing value\n",
    "df = df.dropna()\n",
    "df.info()"
   ]
  },
  {
   "cell_type": "markdown",
   "metadata": {},
   "source": [
    "# Exploratory Data Analysis"
   ]
  },
  {
   "cell_type": "code",
   "execution_count": 8,
   "metadata": {},
   "outputs": [],
   "source": [
    "#Change the dtypes\n",
    "df['budget'] = df['budget'].astype(float)\n",
    "df['critic_reviews'] = df['critic_reviews'].astype(float)\n",
    "df['gross'] = df['gross'].astype(float)\n",
    "df['user_reviews'] = df['user_reviews'].astype(float)\n",
    "df['act1_likes'] = df['act1_likes'].astype(float)\n",
    "df['act2_likes'] = df['act2_likes'].astype(float)\n",
    "df['facenumber'] = df['facenumber'].astype(float)\n",
    "df['dur'] = df['dur'].astype(float)\n",
    "df['cast_likes'] = df['cast_likes'].astype(float)\n",
    "df['voted_users'] = df['voted_users'].astype(float)\n",
    "df['movie_likes'] = df['movie_likes'].astype(float)\n",
    "df['imdb_score'] = df['imdb_score'].astype(int)\n",
    "df['rating'] = df['rating'].astype('category')"
   ]
  },
  {
   "cell_type": "code",
   "execution_count": 9,
   "metadata": {
    "scrolled": true
   },
   "outputs": [
    {
     "data": {
      "text/plain": [
       "act1                object\n",
       "act1_likes         float64\n",
       "act2                object\n",
       "act2_likes         float64\n",
       "budget             float64\n",
       "cast_likes         float64\n",
       "critic_reviews     float64\n",
       "dur                float64\n",
       "facenumber         float64\n",
       "genres              object\n",
       "gross              float64\n",
       "imdb_score           int32\n",
       "movie               object\n",
       "movie_likes        float64\n",
       "rating            category\n",
       "user_reviews       float64\n",
       "voted_users        float64\n",
       "dtype: object"
      ]
     },
     "execution_count": 9,
     "metadata": {},
     "output_type": "execute_result"
    }
   ],
   "source": [
    "df.dtypes"
   ]
  },
  {
   "cell_type": "code",
   "execution_count": 75,
   "metadata": {},
   "outputs": [
    {
     "data": {
      "text/html": [
       "<div>\n",
       "<style scoped>\n",
       "    .dataframe tbody tr th:only-of-type {\n",
       "        vertical-align: middle;\n",
       "    }\n",
       "\n",
       "    .dataframe tbody tr th {\n",
       "        vertical-align: top;\n",
       "    }\n",
       "\n",
       "    .dataframe thead th {\n",
       "        text-align: right;\n",
       "    }\n",
       "</style>\n",
       "<table border=\"1\" class=\"dataframe\">\n",
       "  <thead>\n",
       "    <tr style=\"text-align: right;\">\n",
       "      <th></th>\n",
       "      <th>act1_likes</th>\n",
       "      <th>act2_likes</th>\n",
       "      <th>budget</th>\n",
       "      <th>cast_likes</th>\n",
       "      <th>critic_reviews</th>\n",
       "      <th>dur</th>\n",
       "      <th>facenumber</th>\n",
       "      <th>gross</th>\n",
       "      <th>imdb_score</th>\n",
       "      <th>movie_likes</th>\n",
       "      <th>user_reviews</th>\n",
       "      <th>voted_users</th>\n",
       "      <th>score</th>\n",
       "    </tr>\n",
       "  </thead>\n",
       "  <tbody>\n",
       "    <tr>\n",
       "      <th>act1_likes</th>\n",
       "      <td>1.000000</td>\n",
       "      <td>0.391028</td>\n",
       "      <td>0.017325</td>\n",
       "      <td>0.945035</td>\n",
       "      <td>0.169901</td>\n",
       "      <td>0.086567</td>\n",
       "      <td>0.061710</td>\n",
       "      <td>0.146782</td>\n",
       "      <td>0.091161</td>\n",
       "      <td>0.131706</td>\n",
       "      <td>0.124962</td>\n",
       "      <td>0.181803</td>\n",
       "      <td>0.091161</td>\n",
       "    </tr>\n",
       "    <tr>\n",
       "      <th>act2_likes</th>\n",
       "      <td>0.391028</td>\n",
       "      <td>1.000000</td>\n",
       "      <td>0.036686</td>\n",
       "      <td>0.642476</td>\n",
       "      <td>0.256958</td>\n",
       "      <td>0.131386</td>\n",
       "      <td>0.072407</td>\n",
       "      <td>0.255341</td>\n",
       "      <td>0.100600</td>\n",
       "      <td>0.234142</td>\n",
       "      <td>0.190172</td>\n",
       "      <td>0.247438</td>\n",
       "      <td>0.100600</td>\n",
       "    </tr>\n",
       "    <tr>\n",
       "      <th>budget</th>\n",
       "      <td>0.017325</td>\n",
       "      <td>0.036686</td>\n",
       "      <td>1.000000</td>\n",
       "      <td>0.029787</td>\n",
       "      <td>0.107080</td>\n",
       "      <td>0.069457</td>\n",
       "      <td>-0.021522</td>\n",
       "      <td>0.101292</td>\n",
       "      <td>0.034997</td>\n",
       "      <td>0.053621</td>\n",
       "      <td>0.072426</td>\n",
       "      <td>0.067827</td>\n",
       "      <td>0.034997</td>\n",
       "    </tr>\n",
       "    <tr>\n",
       "      <th>cast_likes</th>\n",
       "      <td>0.945035</td>\n",
       "      <td>0.642476</td>\n",
       "      <td>0.029787</td>\n",
       "      <td>1.000000</td>\n",
       "      <td>0.240960</td>\n",
       "      <td>0.123517</td>\n",
       "      <td>0.084158</td>\n",
       "      <td>0.238573</td>\n",
       "      <td>0.105099</td>\n",
       "      <td>0.207172</td>\n",
       "      <td>0.182219</td>\n",
       "      <td>0.251763</td>\n",
       "      <td>0.105099</td>\n",
       "    </tr>\n",
       "    <tr>\n",
       "      <th>critic_reviews</th>\n",
       "      <td>0.169901</td>\n",
       "      <td>0.256958</td>\n",
       "      <td>0.107080</td>\n",
       "      <td>0.240960</td>\n",
       "      <td>1.000000</td>\n",
       "      <td>0.236789</td>\n",
       "      <td>-0.033784</td>\n",
       "      <td>0.470810</td>\n",
       "      <td>0.341624</td>\n",
       "      <td>0.703328</td>\n",
       "      <td>0.569242</td>\n",
       "      <td>0.596810</td>\n",
       "      <td>0.341624</td>\n",
       "    </tr>\n",
       "    <tr>\n",
       "      <th>dur</th>\n",
       "      <td>0.086567</td>\n",
       "      <td>0.131386</td>\n",
       "      <td>0.069457</td>\n",
       "      <td>0.123517</td>\n",
       "      <td>0.236789</td>\n",
       "      <td>1.000000</td>\n",
       "      <td>0.026775</td>\n",
       "      <td>0.251207</td>\n",
       "      <td>0.353773</td>\n",
       "      <td>0.218098</td>\n",
       "      <td>0.355903</td>\n",
       "      <td>0.343683</td>\n",
       "      <td>0.353773</td>\n",
       "    </tr>\n",
       "    <tr>\n",
       "      <th>facenumber</th>\n",
       "      <td>0.061710</td>\n",
       "      <td>0.072407</td>\n",
       "      <td>-0.021522</td>\n",
       "      <td>0.084158</td>\n",
       "      <td>-0.033784</td>\n",
       "      <td>0.026775</td>\n",
       "      <td>1.000000</td>\n",
       "      <td>-0.030236</td>\n",
       "      <td>-0.073439</td>\n",
       "      <td>0.016850</td>\n",
       "      <td>-0.080162</td>\n",
       "      <td>-0.031947</td>\n",
       "      <td>-0.073439</td>\n",
       "    </tr>\n",
       "    <tr>\n",
       "      <th>gross</th>\n",
       "      <td>0.146782</td>\n",
       "      <td>0.255341</td>\n",
       "      <td>0.101292</td>\n",
       "      <td>0.238573</td>\n",
       "      <td>0.470810</td>\n",
       "      <td>0.251207</td>\n",
       "      <td>-0.030236</td>\n",
       "      <td>1.000000</td>\n",
       "      <td>0.207235</td>\n",
       "      <td>0.369617</td>\n",
       "      <td>0.548884</td>\n",
       "      <td>0.628130</td>\n",
       "      <td>0.207235</td>\n",
       "    </tr>\n",
       "    <tr>\n",
       "      <th>imdb_score</th>\n",
       "      <td>0.091161</td>\n",
       "      <td>0.100600</td>\n",
       "      <td>0.034997</td>\n",
       "      <td>0.105099</td>\n",
       "      <td>0.341624</td>\n",
       "      <td>0.353773</td>\n",
       "      <td>-0.073439</td>\n",
       "      <td>0.207235</td>\n",
       "      <td>1.000000</td>\n",
       "      <td>0.275974</td>\n",
       "      <td>0.312431</td>\n",
       "      <td>0.465229</td>\n",
       "      <td>1.000000</td>\n",
       "    </tr>\n",
       "    <tr>\n",
       "      <th>movie_likes</th>\n",
       "      <td>0.131706</td>\n",
       "      <td>0.234142</td>\n",
       "      <td>0.053621</td>\n",
       "      <td>0.207172</td>\n",
       "      <td>0.703328</td>\n",
       "      <td>0.218098</td>\n",
       "      <td>0.016850</td>\n",
       "      <td>0.369617</td>\n",
       "      <td>0.275974</td>\n",
       "      <td>1.000000</td>\n",
       "      <td>0.372961</td>\n",
       "      <td>0.519258</td>\n",
       "      <td>0.275974</td>\n",
       "    </tr>\n",
       "    <tr>\n",
       "      <th>user_reviews</th>\n",
       "      <td>0.124962</td>\n",
       "      <td>0.190172</td>\n",
       "      <td>0.072426</td>\n",
       "      <td>0.182219</td>\n",
       "      <td>0.569242</td>\n",
       "      <td>0.355903</td>\n",
       "      <td>-0.080162</td>\n",
       "      <td>0.548884</td>\n",
       "      <td>0.312431</td>\n",
       "      <td>0.372961</td>\n",
       "      <td>1.000000</td>\n",
       "      <td>0.780871</td>\n",
       "      <td>0.312431</td>\n",
       "    </tr>\n",
       "    <tr>\n",
       "      <th>voted_users</th>\n",
       "      <td>0.181803</td>\n",
       "      <td>0.247438</td>\n",
       "      <td>0.067827</td>\n",
       "      <td>0.251763</td>\n",
       "      <td>0.596810</td>\n",
       "      <td>0.343683</td>\n",
       "      <td>-0.031947</td>\n",
       "      <td>0.628130</td>\n",
       "      <td>0.465229</td>\n",
       "      <td>0.519258</td>\n",
       "      <td>0.780871</td>\n",
       "      <td>1.000000</td>\n",
       "      <td>0.465229</td>\n",
       "    </tr>\n",
       "    <tr>\n",
       "      <th>score</th>\n",
       "      <td>0.091161</td>\n",
       "      <td>0.100600</td>\n",
       "      <td>0.034997</td>\n",
       "      <td>0.105099</td>\n",
       "      <td>0.341624</td>\n",
       "      <td>0.353773</td>\n",
       "      <td>-0.073439</td>\n",
       "      <td>0.207235</td>\n",
       "      <td>1.000000</td>\n",
       "      <td>0.275974</td>\n",
       "      <td>0.312431</td>\n",
       "      <td>0.465229</td>\n",
       "      <td>1.000000</td>\n",
       "    </tr>\n",
       "  </tbody>\n",
       "</table>\n",
       "</div>"
      ],
      "text/plain": [
       "                act1_likes  act2_likes    budget  cast_likes  critic_reviews  \\\n",
       "act1_likes        1.000000    0.391028  0.017325    0.945035        0.169901   \n",
       "act2_likes        0.391028    1.000000  0.036686    0.642476        0.256958   \n",
       "budget            0.017325    0.036686  1.000000    0.029787        0.107080   \n",
       "cast_likes        0.945035    0.642476  0.029787    1.000000        0.240960   \n",
       "critic_reviews    0.169901    0.256958  0.107080    0.240960        1.000000   \n",
       "dur               0.086567    0.131386  0.069457    0.123517        0.236789   \n",
       "facenumber        0.061710    0.072407 -0.021522    0.084158       -0.033784   \n",
       "gross             0.146782    0.255341  0.101292    0.238573        0.470810   \n",
       "imdb_score        0.091161    0.100600  0.034997    0.105099        0.341624   \n",
       "movie_likes       0.131706    0.234142  0.053621    0.207172        0.703328   \n",
       "user_reviews      0.124962    0.190172  0.072426    0.182219        0.569242   \n",
       "voted_users       0.181803    0.247438  0.067827    0.251763        0.596810   \n",
       "score             0.091161    0.100600  0.034997    0.105099        0.341624   \n",
       "\n",
       "                     dur  facenumber     gross  imdb_score  movie_likes  \\\n",
       "act1_likes      0.086567    0.061710  0.146782    0.091161     0.131706   \n",
       "act2_likes      0.131386    0.072407  0.255341    0.100600     0.234142   \n",
       "budget          0.069457   -0.021522  0.101292    0.034997     0.053621   \n",
       "cast_likes      0.123517    0.084158  0.238573    0.105099     0.207172   \n",
       "critic_reviews  0.236789   -0.033784  0.470810    0.341624     0.703328   \n",
       "dur             1.000000    0.026775  0.251207    0.353773     0.218098   \n",
       "facenumber      0.026775    1.000000 -0.030236   -0.073439     0.016850   \n",
       "gross           0.251207   -0.030236  1.000000    0.207235     0.369617   \n",
       "imdb_score      0.353773   -0.073439  0.207235    1.000000     0.275974   \n",
       "movie_likes     0.218098    0.016850  0.369617    0.275974     1.000000   \n",
       "user_reviews    0.355903   -0.080162  0.548884    0.312431     0.372961   \n",
       "voted_users     0.343683   -0.031947  0.628130    0.465229     0.519258   \n",
       "score           0.353773   -0.073439  0.207235    1.000000     0.275974   \n",
       "\n",
       "                user_reviews  voted_users     score  \n",
       "act1_likes          0.124962     0.181803  0.091161  \n",
       "act2_likes          0.190172     0.247438  0.100600  \n",
       "budget              0.072426     0.067827  0.034997  \n",
       "cast_likes          0.182219     0.251763  0.105099  \n",
       "critic_reviews      0.569242     0.596810  0.341624  \n",
       "dur                 0.355903     0.343683  0.353773  \n",
       "facenumber         -0.080162    -0.031947 -0.073439  \n",
       "gross               0.548884     0.628130  0.207235  \n",
       "imdb_score          0.312431     0.465229  1.000000  \n",
       "movie_likes         0.372961     0.519258  0.275974  \n",
       "user_reviews        1.000000     0.780871  0.312431  \n",
       "voted_users         0.780871     1.000000  0.465229  \n",
       "score               0.312431     0.465229  1.000000  "
      ]
     },
     "execution_count": 75,
     "metadata": {},
     "output_type": "execute_result"
    }
   ],
   "source": [
    "df.corr()"
   ]
  },
  {
   "cell_type": "code",
   "execution_count": 12,
   "metadata": {
    "scrolled": false
   },
   "outputs": [
    {
     "data": {
      "text/plain": [
       "<matplotlib.axes._subplots.AxesSubplot at 0xe636550>"
      ]
     },
     "execution_count": 12,
     "metadata": {},
     "output_type": "execute_result"
    },
    {
     "data": {
      "image/png": "[encoded data removed]",
      "text/plain": [
       "<Figure size 864x864 with 2 Axes>"
      ]
     },
     "metadata": {},
     "output_type": "display_data"
    }
   ],
   "source": [
    "plt.figure(figsize=(12,12))\n",
    "sns.heatmap(df.corr(), vmax=.8, square=True, annot=True, fmt=\".1f\")"
   ]
  },
  {
   "cell_type": "markdown",
   "metadata": {},
   "source": [
    "It looks like the variables most correlated to imdb_score are\n",
    "* critic reviews (.3)\n",
    "* duration (.26)\n",
    "* user reviews (.29)\n",
    "* voted users (.41)"
   ]
  },
  {
   "cell_type": "code",
   "execution_count": 13,
   "metadata": {
    "scrolled": true
   },
   "outputs": [
    {
     "data": {
      "text/plain": [
       "<seaborn.axisgrid.FacetGrid at 0x1034f400>"
      ]
     },
     "execution_count": 13,
     "metadata": {},
     "output_type": "execute_result"
    },
    {
     "data": {
      "image/png": "[encoded data removed]",
      "text/plain": [
       "<Figure size 360x360 with 1 Axes>"
      ]
     },
     "metadata": {},
     "output_type": "display_data"
    }
   ],
   "source": [
    "sns.lmplot('imdb_score','critic_reviews', df)"
   ]
  },
  {
   "cell_type": "markdown",
   "metadata": {},
   "source": [
    "The higher the number of critical reviews a movie recieves, the more likely it will have a higher IMDB rating."
   ]
  },
  {
   "cell_type": "code",
   "execution_count": 80,
   "metadata": {
    "scrolled": true
   },
   "outputs": [
    {
     "data": {
      "text/plain": [
       "<seaborn.axisgrid.FacetGrid at 0x1b617080>"
      ]
     },
     "execution_count": 80,
     "metadata": {},
     "output_type": "execute_result"
    },
    {
     "data": {
      "image/png": "[encoded data removed]",
      "text/plain": [
       "<Figure size 360x360 with 1 Axes>"
      ]
     },
     "metadata": {},
     "output_type": "display_data"
    }
   ],
   "source": [
    "sns.lmplot('imdb_score','dur', df)"
   ]
  },
  {
   "cell_type": "markdown",
   "metadata": {},
   "source": [
    "The longer the movie, the more likely it will have a higher IMDB rating."
   ]
  },
  {
   "cell_type": "code",
   "execution_count": 15,
   "metadata": {
    "scrolled": true
   },
   "outputs": [
    {
     "data": {
      "text/plain": [
       "<seaborn.axisgrid.FacetGrid at 0xcecd208>"
      ]
     },
     "execution_count": 15,
     "metadata": {},
     "output_type": "execute_result"
    },
    {
     "data": {
      "image/png": "[encoded data removed]",
      "text/plain": [
       "<Figure size 360x360 with 1 Axes>"
      ]
     },
     "metadata": {},
     "output_type": "display_data"
    }
   ],
   "source": [
    "sns.lmplot('imdb_score', 'user_reviews', df)"
   ]
  },
  {
   "cell_type": "markdown",
   "metadata": {},
   "source": [
    "The more the number of users who reviewed the movie, the more likely it will have a higher IMDB rating."
   ]
  },
  {
   "cell_type": "code",
   "execution_count": 81,
   "metadata": {
    "scrolled": false
   },
   "outputs": [
    {
     "data": {
      "text/plain": [
       "<seaborn.axisgrid.FacetGrid at 0x1bdab908>"
      ]
     },
     "execution_count": 81,
     "metadata": {},
     "output_type": "execute_result"
    },
    {
     "data": {
      "image/png": "[encoded data removed]",
      "text/plain": [
       "<Figure size 360x360 with 1 Axes>"
      ]
     },
     "metadata": {},
     "output_type": "display_data"
    }
   ],
   "source": [
    "sns.lmplot('imdb_score','voted_users', df)"
   ]
  },
  {
   "cell_type": "markdown",
   "metadata": {},
   "source": [
    "The higher the number of users who voted for the movie, the more likely it will have a higher IMDB rating."
   ]
  },
  {
   "cell_type": "markdown",
   "metadata": {},
   "source": [
    "# Regression"
   ]
  },
  {
   "cell_type": "markdown",
   "metadata": {},
   "source": [
    "## Regression Model Development"
   ]
  },
  {
   "cell_type": "code",
   "execution_count": 17,
   "metadata": {},
   "outputs": [],
   "source": [
    "# Define X & y\n",
    "X = df[['act1_likes', 'act2_likes', 'budget', 'cast_likes', 'critic_reviews', 'dur', 'facenumber', 'gross', 'movie_likes', 'user_reviews', 'voted_users']]\n",
    "y = df[\"imdb_score\"]\n",
    "#X = df.drop(['imdb_score'], axis =1)\n",
    "\n",
    "# X contains (too) many independent variables or predictors ... we will see how it goes"
   ]
  },
  {
   "cell_type": "code",
   "execution_count": 18,
   "metadata": {
    "scrolled": true
   },
   "outputs": [
    {
     "data": {
      "text/plain": [
       "0    7\n",
       "1    7\n",
       "Name: imdb_score, dtype: int32"
      ]
     },
     "execution_count": 18,
     "metadata": {},
     "output_type": "execute_result"
    }
   ],
   "source": [
    "y.head(2)"
   ]
  },
  {
   "cell_type": "code",
   "execution_count": 19,
   "metadata": {},
   "outputs": [
    {
     "data": {
      "text/html": [
       "<div>\n",
       "<style scoped>\n",
       "    .dataframe tbody tr th:only-of-type {\n",
       "        vertical-align: middle;\n",
       "    }\n",
       "\n",
       "    .dataframe tbody tr th {\n",
       "        vertical-align: top;\n",
       "    }\n",
       "\n",
       "    .dataframe thead th {\n",
       "        text-align: right;\n",
       "    }\n",
       "</style>\n",
       "<table border=\"1\" class=\"dataframe\">\n",
       "  <thead>\n",
       "    <tr style=\"text-align: right;\">\n",
       "      <th></th>\n",
       "      <th>act1_likes</th>\n",
       "      <th>act2_likes</th>\n",
       "      <th>budget</th>\n",
       "      <th>cast_likes</th>\n",
       "      <th>critic_reviews</th>\n",
       "      <th>dur</th>\n",
       "      <th>facenumber</th>\n",
       "      <th>gross</th>\n",
       "      <th>movie_likes</th>\n",
       "      <th>user_reviews</th>\n",
       "      <th>voted_users</th>\n",
       "    </tr>\n",
       "  </thead>\n",
       "  <tbody>\n",
       "    <tr>\n",
       "      <th>0</th>\n",
       "      <td>1000.0</td>\n",
       "      <td>936.0</td>\n",
       "      <td>237000000.0</td>\n",
       "      <td>4834.0</td>\n",
       "      <td>723.0</td>\n",
       "      <td>178.0</td>\n",
       "      <td>0.0</td>\n",
       "      <td>760505847.0</td>\n",
       "      <td>33000.0</td>\n",
       "      <td>3054.0</td>\n",
       "      <td>886204.0</td>\n",
       "    </tr>\n",
       "    <tr>\n",
       "      <th>1</th>\n",
       "      <td>40000.0</td>\n",
       "      <td>5000.0</td>\n",
       "      <td>300000000.0</td>\n",
       "      <td>48350.0</td>\n",
       "      <td>302.0</td>\n",
       "      <td>169.0</td>\n",
       "      <td>0.0</td>\n",
       "      <td>309404152.0</td>\n",
       "      <td>0.0</td>\n",
       "      <td>1238.0</td>\n",
       "      <td>471220.0</td>\n",
       "    </tr>\n",
       "  </tbody>\n",
       "</table>\n",
       "</div>"
      ],
      "text/plain": [
       "   act1_likes  act2_likes       budget  cast_likes  critic_reviews    dur  \\\n",
       "0      1000.0       936.0  237000000.0      4834.0           723.0  178.0   \n",
       "1     40000.0      5000.0  300000000.0     48350.0           302.0  169.0   \n",
       "\n",
       "   facenumber        gross  movie_likes  user_reviews  voted_users  \n",
       "0         0.0  760505847.0      33000.0        3054.0     886204.0  \n",
       "1         0.0  309404152.0          0.0        1238.0     471220.0  "
      ]
     },
     "execution_count": 19,
     "metadata": {},
     "output_type": "execute_result"
    }
   ],
   "source": [
    "X.head(2)"
   ]
  },
  {
   "cell_type": "code",
   "execution_count": 20,
   "metadata": {},
   "outputs": [],
   "source": [
    "# build a multiple regression model below\n",
    "\n",
    "model1 = lm.LinearRegression()\n",
    "model1.fit(X, y)   \n",
    "model1_y = model1.predict(X)"
   ]
  },
  {
   "cell_type": "code",
   "execution_count": 21,
   "metadata": {},
   "outputs": [
    {
     "name": "stdout",
     "output_type": "stream",
     "text": [
      "Coefficients:  [ 3.18726662e-05  3.55997633e-05 -3.23049155e-11 -3.13029971e-05\n",
      "  1.61997681e-03  1.21319699e-02 -3.74824815e-02 -2.11661753e-09\n",
      " -2.62083518e-06 -6.09539997e-04  4.18017035e-06]\n",
      "y-intercept  4.4014881946302795\n"
     ]
    }
   ],
   "source": [
    "print 'Coefficients: ', model1.coef_\n",
    "print \"y-intercept \", model1.intercept_"
   ]
  },
  {
   "cell_type": "code",
   "execution_count": 90,
   "metadata": {},
   "outputs": [
    {
     "data": {
      "text/html": [
       "<div>\n",
       "<style scoped>\n",
       "    .dataframe tbody tr th:only-of-type {\n",
       "        vertical-align: middle;\n",
       "    }\n",
       "\n",
       "    .dataframe tbody tr th {\n",
       "        vertical-align: top;\n",
       "    }\n",
       "\n",
       "    .dataframe thead th {\n",
       "        text-align: right;\n",
       "    }\n",
       "</style>\n",
       "<table border=\"1\" class=\"dataframe\">\n",
       "  <thead>\n",
       "    <tr style=\"text-align: right;\">\n",
       "      <th></th>\n",
       "      <th>0</th>\n",
       "      <th>1</th>\n",
       "    </tr>\n",
       "  </thead>\n",
       "  <tbody>\n",
       "    <tr>\n",
       "      <th>0</th>\n",
       "      <td>act1_likes</td>\n",
       "      <td>3.187267e-05</td>\n",
       "    </tr>\n",
       "    <tr>\n",
       "      <th>1</th>\n",
       "      <td>act2_likes</td>\n",
       "      <td>3.559976e-05</td>\n",
       "    </tr>\n",
       "    <tr>\n",
       "      <th>2</th>\n",
       "      <td>budget</td>\n",
       "      <td>-3.230492e-11</td>\n",
       "    </tr>\n",
       "    <tr>\n",
       "      <th>3</th>\n",
       "      <td>cast_likes</td>\n",
       "      <td>-3.130300e-05</td>\n",
       "    </tr>\n",
       "    <tr>\n",
       "      <th>4</th>\n",
       "      <td>critic_reviews</td>\n",
       "      <td>1.619977e-03</td>\n",
       "    </tr>\n",
       "    <tr>\n",
       "      <th>5</th>\n",
       "      <td>dur</td>\n",
       "      <td>1.213197e-02</td>\n",
       "    </tr>\n",
       "    <tr>\n",
       "      <th>6</th>\n",
       "      <td>facenumber</td>\n",
       "      <td>-3.748248e-02</td>\n",
       "    </tr>\n",
       "    <tr>\n",
       "      <th>7</th>\n",
       "      <td>gross</td>\n",
       "      <td>-2.116618e-09</td>\n",
       "    </tr>\n",
       "    <tr>\n",
       "      <th>8</th>\n",
       "      <td>movie_likes</td>\n",
       "      <td>-2.620835e-06</td>\n",
       "    </tr>\n",
       "    <tr>\n",
       "      <th>9</th>\n",
       "      <td>user_reviews</td>\n",
       "      <td>-6.095400e-04</td>\n",
       "    </tr>\n",
       "    <tr>\n",
       "      <th>10</th>\n",
       "      <td>voted_users</td>\n",
       "      <td>4.180170e-06</td>\n",
       "    </tr>\n",
       "  </tbody>\n",
       "</table>\n",
       "</div>"
      ],
      "text/plain": [
       "                 0             1\n",
       "0       act1_likes  3.187267e-05\n",
       "1       act2_likes  3.559976e-05\n",
       "2           budget -3.230492e-11\n",
       "3       cast_likes -3.130300e-05\n",
       "4   critic_reviews  1.619977e-03\n",
       "5              dur  1.213197e-02\n",
       "6       facenumber -3.748248e-02\n",
       "7            gross -2.116618e-09\n",
       "8      movie_likes -2.620835e-06\n",
       "9     user_reviews -6.095400e-04\n",
       "10     voted_users  4.180170e-06"
      ]
     },
     "execution_count": 90,
     "metadata": {},
     "output_type": "execute_result"
    }
   ],
   "source": [
    "pd.DataFrame(zip(X.columns, np.transpose(model1.coef_)))"
   ]
  },
  {
   "cell_type": "code",
   "execution_count": 23,
   "metadata": {},
   "outputs": [
    {
     "data": {
      "text/plain": [
       "[('act1_likes', '0.00003187'),\n",
       " ('act2_likes', '0.00003560'),\n",
       " ('budget', '-0.00000000'),\n",
       " ('cast_likes', '-0.00003130'),\n",
       " ('critic_reviews', '0.00161998'),\n",
       " ('dur', '0.01213197'),\n",
       " ('facenumber', '-0.03748248'),\n",
       " ('gross', '-0.00000000'),\n",
       " ('movie_likes', '-0.00000262'),\n",
       " ('user_reviews', '-0.00060954'),\n",
       " ('voted_users', '0.00000418')]"
      ]
     },
     "execution_count": 23,
     "metadata": {},
     "output_type": "execute_result"
    }
   ],
   "source": [
    "coef = [\"%.8f\" % i for i in model1.coef_]\n",
    "xcolumns = [ i for i in X.columns ]\n",
    "zip(xcolumns, coef)"
   ]
  },
  {
   "cell_type": "code",
   "execution_count": 24,
   "metadata": {},
   "outputs": [
    {
     "name": "stdout",
     "output_type": "stream",
     "text": [
      "mean square error:  0.8304445505836622\n",
      "variance or r-squared:  0.30925435696253767\n"
     ]
    }
   ],
   "source": [
    "print \"mean square error: \", mean_squared_error(y, model1_y)\n",
    "print \"variance or r-squared: \", explained_variance_score(y, model1_y)"
   ]
  },
  {
   "cell_type": "code",
   "execution_count": 25,
   "metadata": {},
   "outputs": [],
   "source": [
    "# Define X & y\n",
    "X = df[['critic_reviews', 'dur', 'user_reviews', 'voted_users']]\n",
    "y = df['imdb_score']\n",
    "#X = df.drop(['imdb_score'], axis =1)\n",
    "\n",
    "# X contains (too) many independent variables or predictors ... we will see how it goes"
   ]
  },
  {
   "cell_type": "code",
   "execution_count": 26,
   "metadata": {},
   "outputs": [],
   "source": [
    "# build a multiple regression model below\n",
    "\n",
    "model2 = lm.LinearRegression()\n",
    "model2.fit(X, y)   \n",
    "model2_y = model2.predict(X)"
   ]
  },
  {
   "cell_type": "code",
   "execution_count": 91,
   "metadata": {},
   "outputs": [
    {
     "name": "stdout",
     "output_type": "stream",
     "text": [
      "Coefficients:  [ 1.08465135e-03  1.15082403e-02 -5.78151039e-04  3.47663507e-06]\n",
      "y-intercept  4.393009633611907\n"
     ]
    }
   ],
   "source": [
    "print 'Coefficients: ', model2.coef_\n",
    "print \"y-intercept \", model2.intercept_"
   ]
  },
  {
   "cell_type": "markdown",
   "metadata": {},
   "source": [
    "For every decrease in critic reviews, duration, user reviews, and voted users there is a decrease in IMDB score.\n"
   ]
  },
  {
   "cell_type": "code",
   "execution_count": 27,
   "metadata": {},
   "outputs": [
    {
     "data": {
      "text/plain": [
       "[('critic_reviews', '0.001'),\n",
       " ('dur', '0.012'),\n",
       " ('user_reviews', '-0.001'),\n",
       " ('voted_users', '0.000')]"
      ]
     },
     "execution_count": 27,
     "metadata": {},
     "output_type": "execute_result"
    }
   ],
   "source": [
    "coef = [\"%.3f\" % i for i in model2.coef_]\n",
    "xcolumns = [ i for i in X.columns ]\n",
    "zip(xcolumns, coef)"
   ]
  },
  {
   "cell_type": "code",
   "execution_count": 28,
   "metadata": {},
   "outputs": [
    {
     "data": {
      "text/html": [
       "<div>\n",
       "<style scoped>\n",
       "    .dataframe tbody tr th:only-of-type {\n",
       "        vertical-align: middle;\n",
       "    }\n",
       "\n",
       "    .dataframe tbody tr th {\n",
       "        vertical-align: top;\n",
       "    }\n",
       "\n",
       "    .dataframe thead th {\n",
       "        text-align: right;\n",
       "    }\n",
       "</style>\n",
       "<table border=\"1\" class=\"dataframe\">\n",
       "  <thead>\n",
       "    <tr style=\"text-align: right;\">\n",
       "      <th></th>\n",
       "      <th>0</th>\n",
       "      <th>1</th>\n",
       "    </tr>\n",
       "  </thead>\n",
       "  <tbody>\n",
       "    <tr>\n",
       "      <th>0</th>\n",
       "      <td>critic_reviews</td>\n",
       "      <td>0.001085</td>\n",
       "    </tr>\n",
       "    <tr>\n",
       "      <th>1</th>\n",
       "      <td>dur</td>\n",
       "      <td>0.011508</td>\n",
       "    </tr>\n",
       "    <tr>\n",
       "      <th>2</th>\n",
       "      <td>user_reviews</td>\n",
       "      <td>-0.000578</td>\n",
       "    </tr>\n",
       "    <tr>\n",
       "      <th>3</th>\n",
       "      <td>voted_users</td>\n",
       "      <td>0.000003</td>\n",
       "    </tr>\n",
       "  </tbody>\n",
       "</table>\n",
       "</div>"
      ],
      "text/plain": [
       "                0         1\n",
       "0  critic_reviews  0.001085\n",
       "1             dur  0.011508\n",
       "2    user_reviews -0.000578\n",
       "3     voted_users  0.000003"
      ]
     },
     "execution_count": 28,
     "metadata": {},
     "output_type": "execute_result"
    }
   ],
   "source": [
    "pd.DataFrame(zip(X.columns, np.transpose(model2.coef_)))"
   ]
  },
  {
   "cell_type": "code",
   "execution_count": 29,
   "metadata": {
    "scrolled": true
   },
   "outputs": [
    {
     "name": "stdout",
     "output_type": "stream",
     "text": [
      "mean square error:  0.8642196904736066\n",
      "variance or r-squared:  0.28116093313843893\n"
     ]
    }
   ],
   "source": [
    "print \"mean square error: \", mean_squared_error(y, model2_y)\n",
    "print \"variance or r-squared: \", explained_variance_score(y, model2_y)"
   ]
  },
  {
   "cell_type": "markdown",
   "metadata": {},
   "source": [
    "# Model Evaluation"
   ]
  },
  {
   "cell_type": "code",
   "execution_count": 30,
   "metadata": {},
   "outputs": [
    {
     "data": {
      "image/png": "[encoded data removed]",
      "text/plain": [
       "<Figure size 576x396 with 2 Axes>"
      ]
     },
     "metadata": {},
     "output_type": "display_data"
    }
   ],
   "source": [
    "from yellowbrick.regressor import ResidualsPlot\n",
    "\n",
    "X = df[['critic_reviews', 'dur', 'user_reviews', 'voted_users']]\n",
    "y = df['imdb_score']\n",
    "\n",
    "# Instantiate the linear model and visualizer\n",
    "regre = lm.LinearRegression()\n",
    "visualizer = ResidualsPlot(regre)\n",
    "\n",
    "visualizer.fit(X, y)  # Fit the training data to the model\n",
    "#visualizer.score(X_test, y_test)  # Evaluate the model on the test data\n",
    "visualizer.poof()                 # Draw/show/poof the data"
   ]
  },
  {
   "cell_type": "markdown",
   "metadata": {},
   "source": [
    "## Regression using Statsmodels"
   ]
  },
  {
   "cell_type": "code",
   "execution_count": 96,
   "metadata": {
    "scrolled": true
   },
   "outputs": [
    {
     "data": {
      "text/html": [
       "<table class=\"simpletable\">\n",
       "<caption>OLS Regression Results</caption>\n",
       "<tr>\n",
       "  <th>Dep. Variable:</th>       <td>imdb_score</td>    <th>  R-squared:         </th> <td>   0.281</td> \n",
       "</tr>\n",
       "<tr>\n",
       "  <th>Model:</th>                   <td>OLS</td>       <th>  Adj. R-squared:    </th> <td>   0.280</td> \n",
       "</tr>\n",
       "<tr>\n",
       "  <th>Method:</th>             <td>Least Squares</td>  <th>  F-statistic:       </th> <td>   374.1</td> \n",
       "</tr>\n",
       "<tr>\n",
       "  <th>Date:</th>             <td>Mon, 03 Dec 2018</td> <th>  Prob (F-statistic):</th> <td>2.94e-272</td>\n",
       "</tr>\n",
       "<tr>\n",
       "  <th>Time:</th>                 <td>22:05:21</td>     <th>  Log-Likelihood:    </th> <td> -5156.4</td> \n",
       "</tr>\n",
       "<tr>\n",
       "  <th>No. Observations:</th>      <td>  3831</td>      <th>  AIC:               </th> <td>1.032e+04</td>\n",
       "</tr>\n",
       "<tr>\n",
       "  <th>Df Residuals:</th>          <td>  3826</td>      <th>  BIC:               </th> <td>1.035e+04</td>\n",
       "</tr>\n",
       "<tr>\n",
       "  <th>Df Model:</th>              <td>     4</td>      <th>                     </th>     <td> </td>    \n",
       "</tr>\n",
       "<tr>\n",
       "  <th>Covariance Type:</th>      <td>nonrobust</td>    <th>                     </th>     <td> </td>    \n",
       "</tr>\n",
       "</table>\n",
       "<table class=\"simpletable\">\n",
       "<tr>\n",
       "         <td></td>           <th>coef</th>     <th>std err</th>      <th>t</th>      <th>P>|t|</th>  <th>[0.025</th>    <th>0.975]</th>  \n",
       "</tr>\n",
       "<tr>\n",
       "  <th>Intercept</th>      <td>    4.3930</td> <td>    0.078</td> <td>   56.245</td> <td> 0.000</td> <td>    4.240</td> <td>    4.546</td>\n",
       "</tr>\n",
       "<tr>\n",
       "  <th>critic_reviews</th> <td>    0.0011</td> <td>    0.000</td> <td>    7.005</td> <td> 0.000</td> <td>    0.001</td> <td>    0.001</td>\n",
       "</tr>\n",
       "<tr>\n",
       "  <th>user_reviews</th>   <td>   -0.0006</td> <td> 6.07e-05</td> <td>   -9.524</td> <td> 0.000</td> <td>   -0.001</td> <td>   -0.000</td>\n",
       "</tr>\n",
       "<tr>\n",
       "  <th>voted_users</th>    <td> 3.477e-06</td> <td> 1.68e-07</td> <td>   20.749</td> <td> 0.000</td> <td> 3.15e-06</td> <td> 3.81e-06</td>\n",
       "</tr>\n",
       "<tr>\n",
       "  <th>dur</th>            <td>    0.0115</td> <td>    0.001</td> <td>   16.046</td> <td> 0.000</td> <td>    0.010</td> <td>    0.013</td>\n",
       "</tr>\n",
       "</table>\n",
       "<table class=\"simpletable\">\n",
       "<tr>\n",
       "  <th>Omnibus:</th>       <td>349.308</td> <th>  Durbin-Watson:     </th> <td>   1.850</td> \n",
       "</tr>\n",
       "<tr>\n",
       "  <th>Prob(Omnibus):</th> <td> 0.000</td>  <th>  Jarque-Bera (JB):  </th> <td> 540.969</td> \n",
       "</tr>\n",
       "<tr>\n",
       "  <th>Skew:</th>          <td>-0.686</td>  <th>  Prob(JB):          </th> <td>3.39e-118</td>\n",
       "</tr>\n",
       "<tr>\n",
       "  <th>Kurtosis:</th>      <td> 4.227</td>  <th>  Cond. No.          </th> <td>9.53e+05</td> \n",
       "</tr>\n",
       "</table><br/><br/>Warnings:<br/>[1] Standard Errors assume that the covariance matrix of the errors is correctly specified.<br/>[2] The condition number is large, 9.53e+05. This might indicate that there are<br/>strong multicollinearity or other numerical problems."
      ],
      "text/plain": [
       "<class 'statsmodels.iolib.summary.Summary'>\n",
       "\"\"\"\n",
       "                            OLS Regression Results                            \n",
       "==============================================================================\n",
       "Dep. Variable:             imdb_score   R-squared:                       0.281\n",
       "Model:                            OLS   Adj. R-squared:                  0.280\n",
       "Method:                 Least Squares   F-statistic:                     374.1\n",
       "Date:                Mon, 03 Dec 2018   Prob (F-statistic):          2.94e-272\n",
       "Time:                        22:05:21   Log-Likelihood:                -5156.4\n",
       "No. Observations:                3831   AIC:                         1.032e+04\n",
       "Df Residuals:                    3826   BIC:                         1.035e+04\n",
       "Df Model:                           4                                         \n",
       "Covariance Type:            nonrobust                                         \n",
       "==================================================================================\n",
       "                     coef    std err          t      P>|t|      [0.025      0.975]\n",
       "----------------------------------------------------------------------------------\n",
       "Intercept          4.3930      0.078     56.245      0.000       4.240       4.546\n",
       "critic_reviews     0.0011      0.000      7.005      0.000       0.001       0.001\n",
       "user_reviews      -0.0006   6.07e-05     -9.524      0.000      -0.001      -0.000\n",
       "voted_users     3.477e-06   1.68e-07     20.749      0.000    3.15e-06    3.81e-06\n",
       "dur                0.0115      0.001     16.046      0.000       0.010       0.013\n",
       "==============================================================================\n",
       "Omnibus:                      349.308   Durbin-Watson:                   1.850\n",
       "Prob(Omnibus):                  0.000   Jarque-Bera (JB):              540.969\n",
       "Skew:                          -0.686   Prob(JB):                    3.39e-118\n",
       "Kurtosis:                       4.227   Cond. No.                     9.53e+05\n",
       "==============================================================================\n",
       "\n",
       "Warnings:\n",
       "[1] Standard Errors assume that the covariance matrix of the errors is correctly specified.\n",
       "[2] The condition number is large, 9.53e+05. This might indicate that there are\n",
       "strong multicollinearity or other numerical problems.\n",
       "\"\"\""
      ]
     },
     "execution_count": 96,
     "metadata": {},
     "output_type": "execute_result"
    }
   ],
   "source": [
    "runs_reg_model1 = ols(\"imdb_score~critic_reviews+user_reviews+voted_users+dur\",df)\n",
    "runs_reg1 = runs_reg_model1.fit()\n",
    "runs_reg1.summary()"
   ]
  },
  {
   "cell_type": "code",
   "execution_count": 32,
   "metadata": {
    "scrolled": true
   },
   "outputs": [
    {
     "data": {
      "text/html": [
       "<table class=\"simpletable\">\n",
       "<caption>OLS Regression Results</caption>\n",
       "<tr>\n",
       "  <th>Dep. Variable:</th>       <td>imdb_score</td>    <th>  R-squared:         </th> <td>   0.125</td> \n",
       "</tr>\n",
       "<tr>\n",
       "  <th>Model:</th>                   <td>OLS</td>       <th>  Adj. R-squared:    </th> <td>   0.125</td> \n",
       "</tr>\n",
       "<tr>\n",
       "  <th>Method:</th>             <td>Least Squares</td>  <th>  F-statistic:       </th> <td>   547.8</td> \n",
       "</tr>\n",
       "<tr>\n",
       "  <th>Date:</th>             <td>Mon, 03 Dec 2018</td> <th>  Prob (F-statistic):</th> <td>2.44e-113</td>\n",
       "</tr>\n",
       "<tr>\n",
       "  <th>Time:</th>                 <td>21:21:02</td>     <th>  Log-Likelihood:    </th> <td> -5532.6</td> \n",
       "</tr>\n",
       "<tr>\n",
       "  <th>No. Observations:</th>      <td>  3831</td>      <th>  AIC:               </th> <td>1.107e+04</td>\n",
       "</tr>\n",
       "<tr>\n",
       "  <th>Df Residuals:</th>          <td>  3829</td>      <th>  BIC:               </th> <td>1.108e+04</td>\n",
       "</tr>\n",
       "<tr>\n",
       "  <th>Df Model:</th>              <td>     1</td>      <th>                     </th>     <td> </td>    \n",
       "</tr>\n",
       "<tr>\n",
       "  <th>Covariance Type:</th>      <td>nonrobust</td>    <th>                     </th>     <td> </td>    \n",
       "</tr>\n",
       "</table>\n",
       "<table class=\"simpletable\">\n",
       "<tr>\n",
       "      <td></td>         <th>coef</th>     <th>std err</th>      <th>t</th>      <th>P>|t|</th>  <th>[0.025</th>    <th>0.975]</th>  \n",
       "</tr>\n",
       "<tr>\n",
       "  <th>Intercept</th> <td>    4.1168</td> <td>    0.082</td> <td>   49.925</td> <td> 0.000</td> <td>    3.955</td> <td>    4.278</td>\n",
       "</tr>\n",
       "<tr>\n",
       "  <th>dur</th>       <td>    0.0172</td> <td>    0.001</td> <td>   23.405</td> <td> 0.000</td> <td>    0.016</td> <td>    0.019</td>\n",
       "</tr>\n",
       "</table>\n",
       "<table class=\"simpletable\">\n",
       "<tr>\n",
       "  <th>Omnibus:</th>       <td>301.272</td> <th>  Durbin-Watson:     </th> <td>   1.906</td>\n",
       "</tr>\n",
       "<tr>\n",
       "  <th>Prob(Omnibus):</th> <td> 0.000</td>  <th>  Jarque-Bera (JB):  </th> <td> 439.084</td>\n",
       "</tr>\n",
       "<tr>\n",
       "  <th>Skew:</th>          <td>-0.634</td>  <th>  Prob(JB):          </th> <td>4.51e-96</td>\n",
       "</tr>\n",
       "<tr>\n",
       "  <th>Kurtosis:</th>      <td> 4.068</td>  <th>  Cond. No.          </th> <td>    559.</td>\n",
       "</tr>\n",
       "</table><br/><br/>Warnings:<br/>[1] Standard Errors assume that the covariance matrix of the errors is correctly specified."
      ],
      "text/plain": [
       "<class 'statsmodels.iolib.summary.Summary'>\n",
       "\"\"\"\n",
       "                            OLS Regression Results                            \n",
       "==============================================================================\n",
       "Dep. Variable:             imdb_score   R-squared:                       0.125\n",
       "Model:                            OLS   Adj. R-squared:                  0.125\n",
       "Method:                 Least Squares   F-statistic:                     547.8\n",
       "Date:                Mon, 03 Dec 2018   Prob (F-statistic):          2.44e-113\n",
       "Time:                        21:21:02   Log-Likelihood:                -5532.6\n",
       "No. Observations:                3831   AIC:                         1.107e+04\n",
       "Df Residuals:                    3829   BIC:                         1.108e+04\n",
       "Df Model:                           1                                         \n",
       "Covariance Type:            nonrobust                                         \n",
       "==============================================================================\n",
       "                 coef    std err          t      P>|t|      [0.025      0.975]\n",
       "------------------------------------------------------------------------------\n",
       "Intercept      4.1168      0.082     49.925      0.000       3.955       4.278\n",
       "dur            0.0172      0.001     23.405      0.000       0.016       0.019\n",
       "==============================================================================\n",
       "Omnibus:                      301.272   Durbin-Watson:                   1.906\n",
       "Prob(Omnibus):                  0.000   Jarque-Bera (JB):              439.084\n",
       "Skew:                          -0.634   Prob(JB):                     4.51e-96\n",
       "Kurtosis:                       4.068   Cond. No.                         559.\n",
       "==============================================================================\n",
       "\n",
       "Warnings:\n",
       "[1] Standard Errors assume that the covariance matrix of the errors is correctly specified.\n",
       "\"\"\""
      ]
     },
     "execution_count": 32,
     "metadata": {},
     "output_type": "execute_result"
    }
   ],
   "source": [
    "runs_reg_model2 = ols(\"imdb_score~dur\",df)\n",
    "runs_reg2 = runs_reg_model2.fit()\n",
    "runs_reg2.summary()"
   ]
  },
  {
   "cell_type": "code",
   "execution_count": 33,
   "metadata": {
    "scrolled": true
   },
   "outputs": [
    {
     "data": {
      "text/html": [
       "<table class=\"simpletable\">\n",
       "<caption>OLS Regression Results</caption>\n",
       "<tr>\n",
       "  <th>Dep. Variable:</th>       <td>imdb_score</td>    <th>  R-squared:         </th> <td>   0.098</td> \n",
       "</tr>\n",
       "<tr>\n",
       "  <th>Model:</th>                   <td>OLS</td>       <th>  Adj. R-squared:    </th> <td>   0.097</td> \n",
       "</tr>\n",
       "<tr>\n",
       "  <th>Method:</th>             <td>Least Squares</td>  <th>  F-statistic:       </th> <td>   414.2</td> \n",
       "</tr>\n",
       "<tr>\n",
       "  <th>Date:</th>             <td>Mon, 03 Dec 2018</td> <th>  Prob (F-statistic):</th> <td>1.64e-87</td> \n",
       "</tr>\n",
       "<tr>\n",
       "  <th>Time:</th>                 <td>21:21:02</td>     <th>  Log-Likelihood:    </th> <td> -5592.0</td> \n",
       "</tr>\n",
       "<tr>\n",
       "  <th>No. Observations:</th>      <td>  3831</td>      <th>  AIC:               </th> <td>1.119e+04</td>\n",
       "</tr>\n",
       "<tr>\n",
       "  <th>Df Residuals:</th>          <td>  3829</td>      <th>  BIC:               </th> <td>1.120e+04</td>\n",
       "</tr>\n",
       "<tr>\n",
       "  <th>Df Model:</th>              <td>     1</td>      <th>                     </th>     <td> </td>    \n",
       "</tr>\n",
       "<tr>\n",
       "  <th>Covariance Type:</th>      <td>nonrobust</td>    <th>                     </th>     <td> </td>    \n",
       "</tr>\n",
       "</table>\n",
       "<table class=\"simpletable\">\n",
       "<tr>\n",
       "        <td></td>          <th>coef</th>     <th>std err</th>      <th>t</th>      <th>P>|t|</th>  <th>[0.025</th>    <th>0.975]</th>  \n",
       "</tr>\n",
       "<tr>\n",
       "  <th>Intercept</th>    <td>    5.7302</td> <td>    0.022</td> <td>  264.671</td> <td> 0.000</td> <td>    5.688</td> <td>    5.773</td>\n",
       "</tr>\n",
       "<tr>\n",
       "  <th>user_reviews</th> <td>    0.0008</td> <td> 4.11e-05</td> <td>   20.352</td> <td> 0.000</td> <td>    0.001</td> <td>    0.001</td>\n",
       "</tr>\n",
       "</table>\n",
       "<table class=\"simpletable\">\n",
       "<tr>\n",
       "  <th>Omnibus:</th>       <td>439.437</td> <th>  Durbin-Watson:     </th> <td>   1.962</td> \n",
       "</tr>\n",
       "<tr>\n",
       "  <th>Prob(Omnibus):</th> <td> 0.000</td>  <th>  Jarque-Bera (JB):  </th> <td> 685.313</td> \n",
       "</tr>\n",
       "<tr>\n",
       "  <th>Skew:</th>          <td>-0.822</td>  <th>  Prob(JB):          </th> <td>1.54e-149</td>\n",
       "</tr>\n",
       "<tr>\n",
       "  <th>Kurtosis:</th>      <td> 4.260</td>  <th>  Cond. No.          </th> <td>    677.</td> \n",
       "</tr>\n",
       "</table><br/><br/>Warnings:<br/>[1] Standard Errors assume that the covariance matrix of the errors is correctly specified."
      ],
      "text/plain": [
       "<class 'statsmodels.iolib.summary.Summary'>\n",
       "\"\"\"\n",
       "                            OLS Regression Results                            \n",
       "==============================================================================\n",
       "Dep. Variable:             imdb_score   R-squared:                       0.098\n",
       "Model:                            OLS   Adj. R-squared:                  0.097\n",
       "Method:                 Least Squares   F-statistic:                     414.2\n",
       "Date:                Mon, 03 Dec 2018   Prob (F-statistic):           1.64e-87\n",
       "Time:                        21:21:02   Log-Likelihood:                -5592.0\n",
       "No. Observations:                3831   AIC:                         1.119e+04\n",
       "Df Residuals:                    3829   BIC:                         1.120e+04\n",
       "Df Model:                           1                                         \n",
       "Covariance Type:            nonrobust                                         \n",
       "================================================================================\n",
       "                   coef    std err          t      P>|t|      [0.025      0.975]\n",
       "--------------------------------------------------------------------------------\n",
       "Intercept        5.7302      0.022    264.671      0.000       5.688       5.773\n",
       "user_reviews     0.0008   4.11e-05     20.352      0.000       0.001       0.001\n",
       "==============================================================================\n",
       "Omnibus:                      439.437   Durbin-Watson:                   1.962\n",
       "Prob(Omnibus):                  0.000   Jarque-Bera (JB):              685.313\n",
       "Skew:                          -0.822   Prob(JB):                    1.54e-149\n",
       "Kurtosis:                       4.260   Cond. No.                         677.\n",
       "==============================================================================\n",
       "\n",
       "Warnings:\n",
       "[1] Standard Errors assume that the covariance matrix of the errors is correctly specified.\n",
       "\"\"\""
      ]
     },
     "execution_count": 33,
     "metadata": {},
     "output_type": "execute_result"
    }
   ],
   "source": [
    "runs_reg_model3 = ols(\"imdb_score~user_reviews\",df)\n",
    "runs_reg3 = runs_reg_model3.fit()\n",
    "runs_reg3.summary()"
   ]
  },
  {
   "cell_type": "code",
   "execution_count": 34,
   "metadata": {
    "scrolled": true
   },
   "outputs": [
    {
     "data": {
      "text/html": [
       "<table class=\"simpletable\">\n",
       "<caption>OLS Regression Results</caption>\n",
       "<tr>\n",
       "  <th>Dep. Variable:</th>       <td>imdb_score</td>    <th>  R-squared:         </th> <td>   0.216</td> \n",
       "</tr>\n",
       "<tr>\n",
       "  <th>Model:</th>                   <td>OLS</td>       <th>  Adj. R-squared:    </th> <td>   0.216</td> \n",
       "</tr>\n",
       "<tr>\n",
       "  <th>Method:</th>             <td>Least Squares</td>  <th>  F-statistic:       </th> <td>   1058.</td> \n",
       "</tr>\n",
       "<tr>\n",
       "  <th>Date:</th>             <td>Mon, 03 Dec 2018</td> <th>  Prob (F-statistic):</th> <td>4.42e-205</td>\n",
       "</tr>\n",
       "<tr>\n",
       "  <th>Time:</th>                 <td>21:21:02</td>     <th>  Log-Likelihood:    </th> <td> -5321.6</td> \n",
       "</tr>\n",
       "<tr>\n",
       "  <th>No. Observations:</th>      <td>  3831</td>      <th>  AIC:               </th> <td>1.065e+04</td>\n",
       "</tr>\n",
       "<tr>\n",
       "  <th>Df Residuals:</th>          <td>  3829</td>      <th>  BIC:               </th> <td>1.066e+04</td>\n",
       "</tr>\n",
       "<tr>\n",
       "  <th>Df Model:</th>              <td>     1</td>      <th>                     </th>     <td> </td>    \n",
       "</tr>\n",
       "<tr>\n",
       "  <th>Covariance Type:</th>      <td>nonrobust</td>    <th>                     </th>     <td> </td>    \n",
       "</tr>\n",
       "</table>\n",
       "<table class=\"simpletable\">\n",
       "<tr>\n",
       "       <td></td>          <th>coef</th>     <th>std err</th>      <th>t</th>      <th>P>|t|</th>  <th>[0.025</th>    <th>0.975]</th>  \n",
       "</tr>\n",
       "<tr>\n",
       "  <th>Intercept</th>   <td>    5.6569</td> <td>    0.019</td> <td>  297.264</td> <td> 0.000</td> <td>    5.620</td> <td>    5.694</td>\n",
       "</tr>\n",
       "<tr>\n",
       "  <th>voted_users</th> <td> 3.374e-06</td> <td> 1.04e-07</td> <td>   32.522</td> <td> 0.000</td> <td> 3.17e-06</td> <td> 3.58e-06</td>\n",
       "</tr>\n",
       "</table>\n",
       "<table class=\"simpletable\">\n",
       "<tr>\n",
       "  <th>Omnibus:</th>       <td>440.822</td> <th>  Durbin-Watson:     </th> <td>   1.936</td> \n",
       "</tr>\n",
       "<tr>\n",
       "  <th>Prob(Omnibus):</th> <td> 0.000</td>  <th>  Jarque-Bera (JB):  </th> <td> 721.963</td> \n",
       "</tr>\n",
       "<tr>\n",
       "  <th>Skew:</th>          <td>-0.802</td>  <th>  Prob(JB):          </th> <td>1.69e-157</td>\n",
       "</tr>\n",
       "<tr>\n",
       "  <th>Kurtosis:</th>      <td> 4.395</td>  <th>  Cond. No.          </th> <td>2.23e+05</td> \n",
       "</tr>\n",
       "</table><br/><br/>Warnings:<br/>[1] Standard Errors assume that the covariance matrix of the errors is correctly specified.<br/>[2] The condition number is large, 2.23e+05. This might indicate that there are<br/>strong multicollinearity or other numerical problems."
      ],
      "text/plain": [
       "<class 'statsmodels.iolib.summary.Summary'>\n",
       "\"\"\"\n",
       "                            OLS Regression Results                            \n",
       "==============================================================================\n",
       "Dep. Variable:             imdb_score   R-squared:                       0.216\n",
       "Model:                            OLS   Adj. R-squared:                  0.216\n",
       "Method:                 Least Squares   F-statistic:                     1058.\n",
       "Date:                Mon, 03 Dec 2018   Prob (F-statistic):          4.42e-205\n",
       "Time:                        21:21:02   Log-Likelihood:                -5321.6\n",
       "No. Observations:                3831   AIC:                         1.065e+04\n",
       "Df Residuals:                    3829   BIC:                         1.066e+04\n",
       "Df Model:                           1                                         \n",
       "Covariance Type:            nonrobust                                         \n",
       "===============================================================================\n",
       "                  coef    std err          t      P>|t|      [0.025      0.975]\n",
       "-------------------------------------------------------------------------------\n",
       "Intercept       5.6569      0.019    297.264      0.000       5.620       5.694\n",
       "voted_users  3.374e-06   1.04e-07     32.522      0.000    3.17e-06    3.58e-06\n",
       "==============================================================================\n",
       "Omnibus:                      440.822   Durbin-Watson:                   1.936\n",
       "Prob(Omnibus):                  0.000   Jarque-Bera (JB):              721.963\n",
       "Skew:                          -0.802   Prob(JB):                    1.69e-157\n",
       "Kurtosis:                       4.395   Cond. No.                     2.23e+05\n",
       "==============================================================================\n",
       "\n",
       "Warnings:\n",
       "[1] Standard Errors assume that the covariance matrix of the errors is correctly specified.\n",
       "[2] The condition number is large, 2.23e+05. This might indicate that there are\n",
       "strong multicollinearity or other numerical problems.\n",
       "\"\"\""
      ]
     },
     "execution_count": 34,
     "metadata": {},
     "output_type": "execute_result"
    }
   ],
   "source": [
    "runs_reg_model4 = ols(\"imdb_score~voted_users\",df)\n",
    "runs_reg4 = runs_reg_model4.fit()\n",
    "runs_reg4.summary()"
   ]
  },
  {
   "cell_type": "markdown",
   "metadata": {},
   "source": [
    "- The first model (critic reviews) has a R-squared of 0.281.\n",
    "- The second model (duration) has a R-squared of 0.067.\n",
    "- The third model (user reviews) has a R-squared of 0.078.\n",
    "- The fourth model (voted_users) has a R-squared of 0.160.\n",
    "- Based on this analysis, can confirm that **first model** has the better correlation compared to the other three."
   ]
  },
  {
   "cell_type": "markdown",
   "metadata": {},
   "source": [
    "## Regression Plots (Statsmodels)"
   ]
  },
  {
   "cell_type": "code",
   "execution_count": 35,
   "metadata": {
    "scrolled": true
   },
   "outputs": [
    {
     "data": {
      "image/png": "[encoded data removed]",
      "text/plain": [
       "<Figure size 864x576 with 1 Axes>"
      ]
     },
     "metadata": {},
     "output_type": "display_data"
    }
   ],
   "source": [
    "fig, ax = plt.subplots(figsize=(12, 8))\n",
    "fig = sm.graphics.plot_fit(runs_reg1, \"critic_reviews\", ax=ax)"
   ]
  },
  {
   "cell_type": "code",
   "execution_count": 36,
   "metadata": {
    "scrolled": true
   },
   "outputs": [
    {
     "data": {
      "image/png": "[encoded data removed]",
      "text/plain": [
       "<Figure size 864x576 with 1 Axes>"
      ]
     },
     "metadata": {},
     "output_type": "display_data"
    }
   ],
   "source": [
    "fig, ax = plt.subplots(figsize=(12, 8))\n",
    "fig = sm.graphics.plot_fit(runs_reg2, \"dur\", ax=ax)"
   ]
  },
  {
   "cell_type": "code",
   "execution_count": 37,
   "metadata": {
    "scrolled": false
   },
   "outputs": [
    {
     "data": {
      "image/png": "[encoded data removed]",
      "text/plain": [
       "<Figure size 864x576 with 1 Axes>"
      ]
     },
     "metadata": {},
     "output_type": "display_data"
    }
   ],
   "source": [
    "fig, ax = plt.subplots(figsize=(12, 8))\n",
    "fig = sm.graphics.plot_fit(runs_reg3, \"user_reviews\", ax=ax)"
   ]
  },
  {
   "cell_type": "code",
   "execution_count": 38,
   "metadata": {
    "scrolled": false
   },
   "outputs": [
    {
     "data": {
      "image/png": "[encoded data removed]",
      "text/plain": [
       "<Figure size 864x576 with 1 Axes>"
      ]
     },
     "metadata": {},
     "output_type": "display_data"
    }
   ],
   "source": [
    "fig, ax = plt.subplots(figsize=(12, 8))\n",
    "fig = sm.graphics.plot_fit(runs_reg4, \"voted_users\", ax=ax)"
   ]
  },
  {
   "cell_type": "markdown",
   "metadata": {},
   "source": [
    "# Classification"
   ]
  },
  {
   "cell_type": "code",
   "execution_count": 39,
   "metadata": {},
   "outputs": [],
   "source": [
    "import numpy as np\n",
    "import pandas as pd\n",
    "import matplotlib.pyplot as plt\n",
    "import seaborn as sns\n",
    "%matplotlib inline\n",
    "\n",
    "#import decisiontreeclassifier\n",
    "from sklearn import tree\n",
    "from sklearn.tree import DecisionTreeClassifier\n",
    "#import logisticregression classifier\n",
    "from sklearn.linear_model import LogisticRegression\n",
    "import statsmodels.api as sm\n",
    "#import knn classifier\n",
    "from sklearn.neighbors import KNeighborsClassifier\n",
    "\n",
    "#for validating your classification model\n",
    "from sklearn.model_selection import train_test_split\n",
    "from sklearn.model_selection import cross_val_score\n",
    "from sklearn import metrics\n",
    "from sklearn.metrics import roc_curve, auc\n",
    "\n",
    "# feature selection\n",
    "from sklearn.feature_selection import RFE\n",
    "from sklearn.ensemble import ExtraTreesClassifier\n",
    "from sklearn.feature_selection import SelectKBest\n",
    "from sklearn.feature_selection import chi2"
   ]
  },
  {
   "cell_type": "markdown",
   "metadata": {},
   "source": [
    "## Classification: Data Transformation"
   ]
  },
  {
   "cell_type": "code",
   "execution_count": 40,
   "metadata": {},
   "outputs": [
    {
     "data": {
      "text/html": [
       "<div>\n",
       "<style scoped>\n",
       "    .dataframe tbody tr th:only-of-type {\n",
       "        vertical-align: middle;\n",
       "    }\n",
       "\n",
       "    .dataframe tbody tr th {\n",
       "        vertical-align: top;\n",
       "    }\n",
       "\n",
       "    .dataframe thead th {\n",
       "        text-align: right;\n",
       "    }\n",
       "</style>\n",
       "<table border=\"1\" class=\"dataframe\">\n",
       "  <thead>\n",
       "    <tr style=\"text-align: right;\">\n",
       "      <th></th>\n",
       "      <th>act1</th>\n",
       "      <th>act1_likes</th>\n",
       "      <th>act2</th>\n",
       "      <th>act2_likes</th>\n",
       "      <th>budget</th>\n",
       "      <th>cast_likes</th>\n",
       "      <th>critic_reviews</th>\n",
       "      <th>dur</th>\n",
       "      <th>facenumber</th>\n",
       "      <th>genres</th>\n",
       "      <th>gross</th>\n",
       "      <th>imdb_score</th>\n",
       "      <th>movie</th>\n",
       "      <th>movie_likes</th>\n",
       "      <th>rating</th>\n",
       "      <th>user_reviews</th>\n",
       "      <th>voted_users</th>\n",
       "      <th>score</th>\n",
       "    </tr>\n",
       "  </thead>\n",
       "  <tbody>\n",
       "    <tr>\n",
       "      <th>0</th>\n",
       "      <td>CCH Pounder</td>\n",
       "      <td>1000.0</td>\n",
       "      <td>Joel David Moore</td>\n",
       "      <td>936.0</td>\n",
       "      <td>237000000.0</td>\n",
       "      <td>4834.0</td>\n",
       "      <td>723.0</td>\n",
       "      <td>178.0</td>\n",
       "      <td>0.0</td>\n",
       "      <td>Action|Adventure|Fantasy|Sci-Fi</td>\n",
       "      <td>760505847.0</td>\n",
       "      <td>7</td>\n",
       "      <td>Avatar</td>\n",
       "      <td>33000.0</td>\n",
       "      <td>PG-13</td>\n",
       "      <td>3054.0</td>\n",
       "      <td>886204.0</td>\n",
       "      <td>7</td>\n",
       "    </tr>\n",
       "    <tr>\n",
       "      <th>1</th>\n",
       "      <td>Johnny Depp</td>\n",
       "      <td>40000.0</td>\n",
       "      <td>Orlando Bloom</td>\n",
       "      <td>5000.0</td>\n",
       "      <td>300000000.0</td>\n",
       "      <td>48350.0</td>\n",
       "      <td>302.0</td>\n",
       "      <td>169.0</td>\n",
       "      <td>0.0</td>\n",
       "      <td>Action|Adventure|Fantasy</td>\n",
       "      <td>309404152.0</td>\n",
       "      <td>7</td>\n",
       "      <td>Pirates of the Caribbean: At World's End</td>\n",
       "      <td>0.0</td>\n",
       "      <td>PG-13</td>\n",
       "      <td>1238.0</td>\n",
       "      <td>471220.0</td>\n",
       "      <td>7</td>\n",
       "    </tr>\n",
       "  </tbody>\n",
       "</table>\n",
       "</div>"
      ],
      "text/plain": [
       "          act1  act1_likes              act2  act2_likes       budget  \\\n",
       "0  CCH Pounder      1000.0  Joel David Moore       936.0  237000000.0   \n",
       "1  Johnny Depp     40000.0     Orlando Bloom      5000.0  300000000.0   \n",
       "\n",
       "   cast_likes  critic_reviews    dur  facenumber  \\\n",
       "0      4834.0           723.0  178.0         0.0   \n",
       "1     48350.0           302.0  169.0         0.0   \n",
       "\n",
       "                            genres        gross  imdb_score  \\\n",
       "0  Action|Adventure|Fantasy|Sci-Fi  760505847.0           7   \n",
       "1         Action|Adventure|Fantasy  309404152.0           7   \n",
       "\n",
       "                                       movie  movie_likes rating  \\\n",
       "0                                    Avatar       33000.0  PG-13   \n",
       "1  Pirates of the Caribbean: At World's End           0.0  PG-13   \n",
       "\n",
       "   user_reviews  voted_users  score  \n",
       "0        3054.0     886204.0      7  \n",
       "1        1238.0     471220.0      7  "
      ]
     },
     "execution_count": 40,
     "metadata": {},
     "output_type": "execute_result"
    }
   ],
   "source": [
    "df2=df\n",
    "# Copy the imdb_score column\n",
    "df2['score']=df2['imdb_score']\n",
    "df2.head(2)"
   ]
  },
  {
   "cell_type": "code",
   "execution_count": 41,
   "metadata": {
    "scrolled": true
   },
   "outputs": [
    {
     "data": {
      "text/html": [
       "<div>\n",
       "<style scoped>\n",
       "    .dataframe tbody tr th:only-of-type {\n",
       "        vertical-align: middle;\n",
       "    }\n",
       "\n",
       "    .dataframe tbody tr th {\n",
       "        vertical-align: top;\n",
       "    }\n",
       "\n",
       "    .dataframe thead th {\n",
       "        text-align: right;\n",
       "    }\n",
       "</style>\n",
       "<table border=\"1\" class=\"dataframe\">\n",
       "  <thead>\n",
       "    <tr style=\"text-align: right;\">\n",
       "      <th></th>\n",
       "      <th>act1</th>\n",
       "      <th>act1_likes</th>\n",
       "      <th>act2</th>\n",
       "      <th>act2_likes</th>\n",
       "      <th>budget</th>\n",
       "      <th>cast_likes</th>\n",
       "      <th>critic_reviews</th>\n",
       "      <th>dur</th>\n",
       "      <th>facenumber</th>\n",
       "      <th>genres</th>\n",
       "      <th>gross</th>\n",
       "      <th>imdb_score</th>\n",
       "      <th>movie</th>\n",
       "      <th>movie_likes</th>\n",
       "      <th>rating</th>\n",
       "      <th>user_reviews</th>\n",
       "      <th>voted_users</th>\n",
       "      <th>score</th>\n",
       "    </tr>\n",
       "  </thead>\n",
       "  <tbody>\n",
       "    <tr>\n",
       "      <th>0</th>\n",
       "      <td>CCH Pounder</td>\n",
       "      <td>1000.0</td>\n",
       "      <td>Joel David Moore</td>\n",
       "      <td>936.0</td>\n",
       "      <td>237000000.0</td>\n",
       "      <td>4834.0</td>\n",
       "      <td>723.0</td>\n",
       "      <td>178.0</td>\n",
       "      <td>0.0</td>\n",
       "      <td>Action|Adventure|Fantasy|Sci-Fi</td>\n",
       "      <td>760505847.0</td>\n",
       "      <td>GOOD</td>\n",
       "      <td>Avatar</td>\n",
       "      <td>33000.0</td>\n",
       "      <td>PG-13</td>\n",
       "      <td>3054.0</td>\n",
       "      <td>886204.0</td>\n",
       "      <td>7</td>\n",
       "    </tr>\n",
       "    <tr>\n",
       "      <th>1</th>\n",
       "      <td>Johnny Depp</td>\n",
       "      <td>40000.0</td>\n",
       "      <td>Orlando Bloom</td>\n",
       "      <td>5000.0</td>\n",
       "      <td>300000000.0</td>\n",
       "      <td>48350.0</td>\n",
       "      <td>302.0</td>\n",
       "      <td>169.0</td>\n",
       "      <td>0.0</td>\n",
       "      <td>Action|Adventure|Fantasy</td>\n",
       "      <td>309404152.0</td>\n",
       "      <td>GOOD</td>\n",
       "      <td>Pirates of the Caribbean: At World's End</td>\n",
       "      <td>0.0</td>\n",
       "      <td>PG-13</td>\n",
       "      <td>1238.0</td>\n",
       "      <td>471220.0</td>\n",
       "      <td>7</td>\n",
       "    </tr>\n",
       "  </tbody>\n",
       "</table>\n",
       "</div>"
      ],
      "text/plain": [
       "          act1  act1_likes              act2  act2_likes       budget  \\\n",
       "0  CCH Pounder      1000.0  Joel David Moore       936.0  237000000.0   \n",
       "1  Johnny Depp     40000.0     Orlando Bloom      5000.0  300000000.0   \n",
       "\n",
       "   cast_likes  critic_reviews    dur  facenumber  \\\n",
       "0      4834.0           723.0  178.0         0.0   \n",
       "1     48350.0           302.0  169.0         0.0   \n",
       "\n",
       "                            genres        gross imdb_score  \\\n",
       "0  Action|Adventure|Fantasy|Sci-Fi  760505847.0       GOOD   \n",
       "1         Action|Adventure|Fantasy  309404152.0       GOOD   \n",
       "\n",
       "                                       movie  movie_likes rating  \\\n",
       "0                                    Avatar       33000.0  PG-13   \n",
       "1  Pirates of the Caribbean: At World's End           0.0  PG-13   \n",
       "\n",
       "   user_reviews  voted_users  score  \n",
       "0        3054.0     886204.0      7  \n",
       "1        1238.0     471220.0      7  "
      ]
     },
     "execution_count": 41,
     "metadata": {},
     "output_type": "execute_result"
    }
   ],
   "source": [
    "#replacing imdb scores\n",
    "df2 = df2.replace({'imdb_score': 1}, {'imdb_score': 'BAD'})\n",
    "df2 = df2.replace({'imdb_score': 2}, {'imdb_score': 'BAD'})\n",
    "df2 = df2.replace({'imdb_score': 3}, {'imdb_score': 'BAD'})\n",
    "df2 = df2.replace({'imdb_score': 4}, {'imdb_score': 'OK'})\n",
    "df2 = df2.replace({'imdb_score': 5}, {'imdb_score': 'OK'})\n",
    "df2 = df2.replace({'imdb_score': 6}, {'imdb_score': 'GOOD'})\n",
    "df2 = df2.replace({'imdb_score': 7}, {'imdb_score': 'GOOD'})\n",
    "df2 = df2.replace({'imdb_score': 8}, {'imdb_score': 'EXCELLENT'})\n",
    "df2 = df2.replace({'imdb_score': 9}, {'imdb_score': 'EXCELLENT'})\n",
    "df2 = df2.replace({'imdb_score': 10}, {'imdb_score': 'EXCELLENT'})\n",
    "df2.head(2)"
   ]
  },
  {
   "cell_type": "code",
   "execution_count": 42,
   "metadata": {
    "scrolled": false
   },
   "outputs": [
    {
     "data": {
      "text/plain": [
       "imdb_score\n",
       "BAD            89\n",
       "EXCELLENT     215\n",
       "GOOD         2544\n",
       "OK            983\n",
       "dtype: int64"
      ]
     },
     "execution_count": 42,
     "metadata": {},
     "output_type": "execute_result"
    }
   ],
   "source": [
    "#How many movies are in the 'BAD', 'OK', 'GOOD', and 'EXCELLENT' categories?\n",
    "count = df2.groupby('imdb_score').size()\n",
    "count"
   ]
  },
  {
   "cell_type": "code",
   "execution_count": 43,
   "metadata": {},
   "outputs": [
    {
     "data": {
      "text/plain": [
       "<matplotlib.axes._subplots.AxesSubplot at 0x14a59b00>"
      ]
     },
     "execution_count": 43,
     "metadata": {},
     "output_type": "execute_result"
    },
    {
     "data": {
      "image/png": "[encoded data removed]",
      "text/plain": [
       "<Figure size 432x288 with 1 Axes>"
      ]
     },
     "metadata": {},
     "output_type": "display_data"
    }
   ],
   "source": [
    "count.plot(kind='bar')"
   ]
  },
  {
   "cell_type": "markdown",
   "metadata": {},
   "source": [
    "* It looks like the majority of movies on IMDB are rated between 6 -8 ('GOOD').\n",
    "* There is a larger number of 'OK' and 'GOOD' movies than there are 'EXCELLENT' or 'BAD' movies.\n",
    "* The least amount of movies were rated as 'BAD' (1-3)."
   ]
  },
  {
   "cell_type": "markdown",
   "metadata": {},
   "source": [
    "## Classification: Correlation Analysis"
   ]
  },
  {
   "cell_type": "code",
   "execution_count": 44,
   "metadata": {},
   "outputs": [
    {
     "data": {
      "text/html": [
       "<div>\n",
       "<style scoped>\n",
       "    .dataframe tbody tr th:only-of-type {\n",
       "        vertical-align: middle;\n",
       "    }\n",
       "\n",
       "    .dataframe tbody tr th {\n",
       "        vertical-align: top;\n",
       "    }\n",
       "\n",
       "    .dataframe thead th {\n",
       "        text-align: right;\n",
       "    }\n",
       "</style>\n",
       "<table border=\"1\" class=\"dataframe\">\n",
       "  <thead>\n",
       "    <tr style=\"text-align: right;\">\n",
       "      <th></th>\n",
       "      <th>act1</th>\n",
       "      <th>act1_likes</th>\n",
       "      <th>act2</th>\n",
       "      <th>act2_likes</th>\n",
       "      <th>budget</th>\n",
       "      <th>cast_likes</th>\n",
       "      <th>critic_reviews</th>\n",
       "      <th>dur</th>\n",
       "      <th>facenumber</th>\n",
       "      <th>genres</th>\n",
       "      <th>...</th>\n",
       "      <th>movie</th>\n",
       "      <th>movie_likes</th>\n",
       "      <th>rating</th>\n",
       "      <th>user_reviews</th>\n",
       "      <th>voted_users</th>\n",
       "      <th>score</th>\n",
       "      <th>imdb_BAD</th>\n",
       "      <th>imdb_EXCELLENT</th>\n",
       "      <th>imdb_GOOD</th>\n",
       "      <th>imdb_OK</th>\n",
       "    </tr>\n",
       "  </thead>\n",
       "  <tbody>\n",
       "    <tr>\n",
       "      <th>0</th>\n",
       "      <td>CCH Pounder</td>\n",
       "      <td>1000.0</td>\n",
       "      <td>Joel David Moore</td>\n",
       "      <td>936.0</td>\n",
       "      <td>237000000.0</td>\n",
       "      <td>4834.0</td>\n",
       "      <td>723.0</td>\n",
       "      <td>178.0</td>\n",
       "      <td>0.0</td>\n",
       "      <td>Action|Adventure|Fantasy|Sci-Fi</td>\n",
       "      <td>...</td>\n",
       "      <td>Avatar</td>\n",
       "      <td>33000.0</td>\n",
       "      <td>PG-13</td>\n",
       "      <td>3054.0</td>\n",
       "      <td>886204.0</td>\n",
       "      <td>7</td>\n",
       "      <td>0</td>\n",
       "      <td>0</td>\n",
       "      <td>1</td>\n",
       "      <td>0</td>\n",
       "    </tr>\n",
       "    <tr>\n",
       "      <th>1</th>\n",
       "      <td>Johnny Depp</td>\n",
       "      <td>40000.0</td>\n",
       "      <td>Orlando Bloom</td>\n",
       "      <td>5000.0</td>\n",
       "      <td>300000000.0</td>\n",
       "      <td>48350.0</td>\n",
       "      <td>302.0</td>\n",
       "      <td>169.0</td>\n",
       "      <td>0.0</td>\n",
       "      <td>Action|Adventure|Fantasy</td>\n",
       "      <td>...</td>\n",
       "      <td>Pirates of the Caribbean: At World's End</td>\n",
       "      <td>0.0</td>\n",
       "      <td>PG-13</td>\n",
       "      <td>1238.0</td>\n",
       "      <td>471220.0</td>\n",
       "      <td>7</td>\n",
       "      <td>0</td>\n",
       "      <td>0</td>\n",
       "      <td>1</td>\n",
       "      <td>0</td>\n",
       "    </tr>\n",
       "  </tbody>\n",
       "</table>\n",
       "<p>2 rows × 22 columns</p>\n",
       "</div>"
      ],
      "text/plain": [
       "          act1  act1_likes              act2  act2_likes       budget  \\\n",
       "0  CCH Pounder      1000.0  Joel David Moore       936.0  237000000.0   \n",
       "1  Johnny Depp     40000.0     Orlando Bloom      5000.0  300000000.0   \n",
       "\n",
       "   cast_likes  critic_reviews    dur  facenumber  \\\n",
       "0      4834.0           723.0  178.0         0.0   \n",
       "1     48350.0           302.0  169.0         0.0   \n",
       "\n",
       "                            genres   ...     \\\n",
       "0  Action|Adventure|Fantasy|Sci-Fi   ...      \n",
       "1         Action|Adventure|Fantasy   ...      \n",
       "\n",
       "                                       movie movie_likes rating  user_reviews  \\\n",
       "0                                    Avatar      33000.0  PG-13        3054.0   \n",
       "1  Pirates of the Caribbean: At World's End          0.0  PG-13        1238.0   \n",
       "\n",
       "  voted_users  score  imdb_BAD  imdb_EXCELLENT  imdb_GOOD  imdb_OK  \n",
       "0    886204.0      7         0               0          1        0  \n",
       "1    471220.0      7         0               0          1        0  \n",
       "\n",
       "[2 rows x 22 columns]"
      ]
     },
     "execution_count": 44,
     "metadata": {},
     "output_type": "execute_result"
    }
   ],
   "source": [
    "# create dummy variables or colummn for imdb_score\n",
    "imdb_dummies = pd.get_dummies(df2['imdb_score'], prefix='imdb')\n",
    "df2 = df2.join(imdb_dummies)\n",
    "df2.head(2)"
   ]
  },
  {
   "cell_type": "code",
   "execution_count": 45,
   "metadata": {
    "scrolled": true
   },
   "outputs": [
    {
     "data": {
      "text/html": [
       "<div>\n",
       "<style scoped>\n",
       "    .dataframe tbody tr th:only-of-type {\n",
       "        vertical-align: middle;\n",
       "    }\n",
       "\n",
       "    .dataframe tbody tr th {\n",
       "        vertical-align: top;\n",
       "    }\n",
       "\n",
       "    .dataframe thead th {\n",
       "        text-align: right;\n",
       "    }\n",
       "</style>\n",
       "<table border=\"1\" class=\"dataframe\">\n",
       "  <thead>\n",
       "    <tr style=\"text-align: right;\">\n",
       "      <th></th>\n",
       "      <th>imdb_BAD</th>\n",
       "    </tr>\n",
       "  </thead>\n",
       "  <tbody>\n",
       "    <tr>\n",
       "      <th>facenumber</th>\n",
       "      <td>0.017327</td>\n",
       "    </tr>\n",
       "    <tr>\n",
       "      <th>budget</th>\n",
       "      <td>-0.012748</td>\n",
       "    </tr>\n",
       "    <tr>\n",
       "      <th>user_reviews</th>\n",
       "      <td>-0.039696</td>\n",
       "    </tr>\n",
       "    <tr>\n",
       "      <th>act2_likes</th>\n",
       "      <td>-0.045515</td>\n",
       "    </tr>\n",
       "    <tr>\n",
       "      <th>movie_likes</th>\n",
       "      <td>-0.051136</td>\n",
       "    </tr>\n",
       "    <tr>\n",
       "      <th>act1_likes</th>\n",
       "      <td>-0.051430</td>\n",
       "    </tr>\n",
       "    <tr>\n",
       "      <th>cast_likes</th>\n",
       "      <td>-0.056401</td>\n",
       "    </tr>\n",
       "    <tr>\n",
       "      <th>gross</th>\n",
       "      <td>-0.070294</td>\n",
       "    </tr>\n",
       "    <tr>\n",
       "      <th>voted_users</th>\n",
       "      <td>-0.080194</td>\n",
       "    </tr>\n",
       "    <tr>\n",
       "      <th>dur</th>\n",
       "      <td>-0.096323</td>\n",
       "    </tr>\n",
       "    <tr>\n",
       "      <th>critic_reviews</th>\n",
       "      <td>-0.110677</td>\n",
       "    </tr>\n",
       "  </tbody>\n",
       "</table>\n",
       "</div>"
      ],
      "text/plain": [
       "                imdb_BAD\n",
       "facenumber      0.017327\n",
       "budget         -0.012748\n",
       "user_reviews   -0.039696\n",
       "act2_likes     -0.045515\n",
       "movie_likes    -0.051136\n",
       "act1_likes     -0.051430\n",
       "cast_likes     -0.056401\n",
       "gross          -0.070294\n",
       "voted_users    -0.080194\n",
       "dur            -0.096323\n",
       "critic_reviews -0.110677"
      ]
     },
     "execution_count": 45,
     "metadata": {},
     "output_type": "execute_result"
    }
   ],
   "source": [
    "# What variables are most correlated with imdb_BAD\n",
    "corr = pd.DataFrame(df2.corr()['imdb_BAD'].drop(['imdb_GOOD', 'imdb_OK', 'imdb_EXCELLENT','imdb_BAD','score']))\n",
    "corr.sort_values(['imdb_BAD'], ascending = False)"
   ]
  },
  {
   "cell_type": "code",
   "execution_count": 46,
   "metadata": {
    "scrolled": true
   },
   "outputs": [
    {
     "data": {
      "text/html": [
       "<div>\n",
       "<style scoped>\n",
       "    .dataframe tbody tr th:only-of-type {\n",
       "        vertical-align: middle;\n",
       "    }\n",
       "\n",
       "    .dataframe tbody tr th {\n",
       "        vertical-align: top;\n",
       "    }\n",
       "\n",
       "    .dataframe thead th {\n",
       "        text-align: right;\n",
       "    }\n",
       "</style>\n",
       "<table border=\"1\" class=\"dataframe\">\n",
       "  <thead>\n",
       "    <tr style=\"text-align: right;\">\n",
       "      <th></th>\n",
       "      <th>imdb_OK</th>\n",
       "    </tr>\n",
       "  </thead>\n",
       "  <tbody>\n",
       "    <tr>\n",
       "      <th>facenumber</th>\n",
       "      <td>0.051825</td>\n",
       "    </tr>\n",
       "    <tr>\n",
       "      <th>budget</th>\n",
       "      <td>-0.022646</td>\n",
       "    </tr>\n",
       "    <tr>\n",
       "      <th>act1_likes</th>\n",
       "      <td>-0.054618</td>\n",
       "    </tr>\n",
       "    <tr>\n",
       "      <th>cast_likes</th>\n",
       "      <td>-0.061847</td>\n",
       "    </tr>\n",
       "    <tr>\n",
       "      <th>act2_likes</th>\n",
       "      <td>-0.064329</td>\n",
       "    </tr>\n",
       "    <tr>\n",
       "      <th>gross</th>\n",
       "      <td>-0.120721</td>\n",
       "    </tr>\n",
       "    <tr>\n",
       "      <th>movie_likes</th>\n",
       "      <td>-0.147893</td>\n",
       "    </tr>\n",
       "    <tr>\n",
       "      <th>user_reviews</th>\n",
       "      <td>-0.170452</td>\n",
       "    </tr>\n",
       "    <tr>\n",
       "      <th>critic_reviews</th>\n",
       "      <td>-0.211504</td>\n",
       "    </tr>\n",
       "    <tr>\n",
       "      <th>voted_users</th>\n",
       "      <td>-0.245142</td>\n",
       "    </tr>\n",
       "    <tr>\n",
       "      <th>dur</th>\n",
       "      <td>-0.246277</td>\n",
       "    </tr>\n",
       "  </tbody>\n",
       "</table>\n",
       "</div>"
      ],
      "text/plain": [
       "                 imdb_OK\n",
       "facenumber      0.051825\n",
       "budget         -0.022646\n",
       "act1_likes     -0.054618\n",
       "cast_likes     -0.061847\n",
       "act2_likes     -0.064329\n",
       "gross          -0.120721\n",
       "movie_likes    -0.147893\n",
       "user_reviews   -0.170452\n",
       "critic_reviews -0.211504\n",
       "voted_users    -0.245142\n",
       "dur            -0.246277"
      ]
     },
     "execution_count": 46,
     "metadata": {},
     "output_type": "execute_result"
    }
   ],
   "source": [
    "# What variables are most correlated with imdb_OK\n",
    "corr = pd.DataFrame(df2.corr()['imdb_OK'].drop(['imdb_GOOD', 'imdb_OK', 'imdb_EXCELLENT','imdb_BAD','score']))\n",
    "corr.sort_values(['imdb_OK'], ascending = False)"
   ]
  },
  {
   "cell_type": "code",
   "execution_count": 47,
   "metadata": {
    "scrolled": true
   },
   "outputs": [
    {
     "data": {
      "text/html": [
       "<div>\n",
       "<style scoped>\n",
       "    .dataframe tbody tr th:only-of-type {\n",
       "        vertical-align: middle;\n",
       "    }\n",
       "\n",
       "    .dataframe tbody tr th {\n",
       "        vertical-align: top;\n",
       "    }\n",
       "\n",
       "    .dataframe thead th {\n",
       "        text-align: right;\n",
       "    }\n",
       "</style>\n",
       "<table border=\"1\" class=\"dataframe\">\n",
       "  <thead>\n",
       "    <tr style=\"text-align: right;\">\n",
       "      <th></th>\n",
       "      <th>imdb_GOOD</th>\n",
       "    </tr>\n",
       "  </thead>\n",
       "  <tbody>\n",
       "    <tr>\n",
       "      <th>dur</th>\n",
       "      <td>0.128836</td>\n",
       "    </tr>\n",
       "    <tr>\n",
       "      <th>critic_reviews</th>\n",
       "      <td>0.125142</td>\n",
       "    </tr>\n",
       "    <tr>\n",
       "      <th>act1_likes</th>\n",
       "      <td>0.051013</td>\n",
       "    </tr>\n",
       "    <tr>\n",
       "      <th>cast_likes</th>\n",
       "      <td>0.049768</td>\n",
       "    </tr>\n",
       "    <tr>\n",
       "      <th>act2_likes</th>\n",
       "      <td>0.047307</td>\n",
       "    </tr>\n",
       "    <tr>\n",
       "      <th>gross</th>\n",
       "      <td>0.040588</td>\n",
       "    </tr>\n",
       "    <tr>\n",
       "      <th>budget</th>\n",
       "      <td>0.018012</td>\n",
       "    </tr>\n",
       "    <tr>\n",
       "      <th>movie_likes</th>\n",
       "      <td>0.007162</td>\n",
       "    </tr>\n",
       "    <tr>\n",
       "      <th>user_reviews</th>\n",
       "      <td>-0.008603</td>\n",
       "    </tr>\n",
       "    <tr>\n",
       "      <th>voted_users</th>\n",
       "      <td>-0.030142</td>\n",
       "    </tr>\n",
       "    <tr>\n",
       "      <th>facenumber</th>\n",
       "      <td>-0.030390</td>\n",
       "    </tr>\n",
       "  </tbody>\n",
       "</table>\n",
       "</div>"
      ],
      "text/plain": [
       "                imdb_GOOD\n",
       "dur              0.128836\n",
       "critic_reviews   0.125142\n",
       "act1_likes       0.051013\n",
       "cast_likes       0.049768\n",
       "act2_likes       0.047307\n",
       "gross            0.040588\n",
       "budget           0.018012\n",
       "movie_likes      0.007162\n",
       "user_reviews    -0.008603\n",
       "voted_users     -0.030142\n",
       "facenumber      -0.030390"
      ]
     },
     "execution_count": 47,
     "metadata": {},
     "output_type": "execute_result"
    }
   ],
   "source": [
    "# What variables are most correlated with imdb_GOOD\n",
    "corr = pd.DataFrame(df2.corr()['imdb_GOOD'].drop(['imdb_GOOD', 'imdb_OK', 'imdb_EXCELLENT','imdb_BAD','score']))\n",
    "corr.sort_values(['imdb_GOOD'], ascending = False)"
   ]
  },
  {
   "cell_type": "code",
   "execution_count": 48,
   "metadata": {
    "scrolled": true
   },
   "outputs": [
    {
     "data": {
      "text/html": [
       "<div>\n",
       "<style scoped>\n",
       "    .dataframe tbody tr th:only-of-type {\n",
       "        vertical-align: middle;\n",
       "    }\n",
       "\n",
       "    .dataframe tbody tr th {\n",
       "        vertical-align: top;\n",
       "    }\n",
       "\n",
       "    .dataframe thead th {\n",
       "        text-align: right;\n",
       "    }\n",
       "</style>\n",
       "<table border=\"1\" class=\"dataframe\">\n",
       "  <thead>\n",
       "    <tr style=\"text-align: right;\">\n",
       "      <th></th>\n",
       "      <th>imdb_EXCELLENT</th>\n",
       "    </tr>\n",
       "  </thead>\n",
       "  <tbody>\n",
       "    <tr>\n",
       "      <th>voted_users</th>\n",
       "      <td>0.579534</td>\n",
       "    </tr>\n",
       "    <tr>\n",
       "      <th>user_reviews</th>\n",
       "      <td>0.367094</td>\n",
       "    </tr>\n",
       "    <tr>\n",
       "      <th>movie_likes</th>\n",
       "      <td>0.299418</td>\n",
       "    </tr>\n",
       "    <tr>\n",
       "      <th>dur</th>\n",
       "      <td>0.265994</td>\n",
       "    </tr>\n",
       "    <tr>\n",
       "      <th>critic_reviews</th>\n",
       "      <td>0.216984</td>\n",
       "    </tr>\n",
       "    <tr>\n",
       "      <th>gross</th>\n",
       "      <td>0.191798</td>\n",
       "    </tr>\n",
       "    <tr>\n",
       "      <th>act2_likes</th>\n",
       "      <td>0.054781</td>\n",
       "    </tr>\n",
       "    <tr>\n",
       "      <th>cast_likes</th>\n",
       "      <td>0.052145</td>\n",
       "    </tr>\n",
       "    <tr>\n",
       "      <th>act1_likes</th>\n",
       "      <td>0.032619</td>\n",
       "    </tr>\n",
       "    <tr>\n",
       "      <th>budget</th>\n",
       "      <td>0.014354</td>\n",
       "    </tr>\n",
       "    <tr>\n",
       "      <th>facenumber</th>\n",
       "      <td>-0.047320</td>\n",
       "    </tr>\n",
       "  </tbody>\n",
       "</table>\n",
       "</div>"
      ],
      "text/plain": [
       "                imdb_EXCELLENT\n",
       "voted_users           0.579534\n",
       "user_reviews          0.367094\n",
       "movie_likes           0.299418\n",
       "dur                   0.265994\n",
       "critic_reviews        0.216984\n",
       "gross                 0.191798\n",
       "act2_likes            0.054781\n",
       "cast_likes            0.052145\n",
       "act1_likes            0.032619\n",
       "budget                0.014354\n",
       "facenumber           -0.047320"
      ]
     },
     "execution_count": 48,
     "metadata": {},
     "output_type": "execute_result"
    }
   ],
   "source": [
    "# What variables are most correlated with imdb_EXCELLENT\n",
    "corr = pd.DataFrame(df2.corr()['imdb_EXCELLENT'].drop(['imdb_GOOD', 'imdb_OK', 'imdb_EXCELLENT','imdb_BAD','score']))\n",
    "corr.sort_values(['imdb_EXCELLENT'], ascending = False)"
   ]
  },
  {
   "cell_type": "code",
   "execution_count": 49,
   "metadata": {
    "scrolled": false
   },
   "outputs": [
    {
     "data": {
      "text/html": [
       "<div>\n",
       "<style scoped>\n",
       "    .dataframe tbody tr th:only-of-type {\n",
       "        vertical-align: middle;\n",
       "    }\n",
       "\n",
       "    .dataframe tbody tr th {\n",
       "        vertical-align: top;\n",
       "    }\n",
       "\n",
       "    .dataframe thead th {\n",
       "        text-align: right;\n",
       "    }\n",
       "</style>\n",
       "<table border=\"1\" class=\"dataframe\">\n",
       "  <thead>\n",
       "    <tr style=\"text-align: right;\">\n",
       "      <th></th>\n",
       "      <th>act1_likes</th>\n",
       "      <th>act2_likes</th>\n",
       "      <th>budget</th>\n",
       "      <th>cast_likes</th>\n",
       "      <th>critic_reviews</th>\n",
       "      <th>dur</th>\n",
       "      <th>facenumber</th>\n",
       "      <th>gross</th>\n",
       "      <th>movie_likes</th>\n",
       "      <th>user_reviews</th>\n",
       "      <th>voted_users</th>\n",
       "      <th>score</th>\n",
       "      <th>imdb_BAD</th>\n",
       "      <th>imdb_EXCELLENT</th>\n",
       "      <th>imdb_GOOD</th>\n",
       "      <th>imdb_OK</th>\n",
       "    </tr>\n",
       "    <tr>\n",
       "      <th>imdb_score</th>\n",
       "      <th></th>\n",
       "      <th></th>\n",
       "      <th></th>\n",
       "      <th></th>\n",
       "      <th></th>\n",
       "      <th></th>\n",
       "      <th></th>\n",
       "      <th></th>\n",
       "      <th></th>\n",
       "      <th></th>\n",
       "      <th></th>\n",
       "      <th></th>\n",
       "      <th></th>\n",
       "      <th></th>\n",
       "      <th></th>\n",
       "      <th></th>\n",
       "    </tr>\n",
       "  </thead>\n",
       "  <tbody>\n",
       "    <tr>\n",
       "      <th>BAD</th>\n",
       "      <td>2513.112360</td>\n",
       "      <td>662.000000</td>\n",
       "      <td>2.698202e+07</td>\n",
       "      <td>4437.337079</td>\n",
       "      <td>76.112360</td>\n",
       "      <td>95.898876</td>\n",
       "      <td>1.606742</td>\n",
       "      <td>1.979152e+07</td>\n",
       "      <td>2146.089888</td>\n",
       "      <td>225.707865</td>\n",
       "      <td>25242.786517</td>\n",
       "      <td>2.685393</td>\n",
       "      <td>1</td>\n",
       "      <td>0</td>\n",
       "      <td>0</td>\n",
       "      <td>0</td>\n",
       "    </tr>\n",
       "    <tr>\n",
       "      <th>EXCELLENT</th>\n",
       "      <td>9726.730233</td>\n",
       "      <td>3006.195349</td>\n",
       "      <td>5.866073e+07</td>\n",
       "      <td>15455.572093</td>\n",
       "      <td>274.855814</td>\n",
       "      <td>134.613953</td>\n",
       "      <td>0.981395</td>\n",
       "      <td>1.067011e+08</td>\n",
       "      <td>35341.223256</td>\n",
       "      <td>947.153488</td>\n",
       "      <td>463143.669767</td>\n",
       "      <td>8.018605</td>\n",
       "      <td>0</td>\n",
       "      <td>1</td>\n",
       "      <td>0</td>\n",
       "      <td>0</td>\n",
       "    </tr>\n",
       "    <tr>\n",
       "      <th>GOOD</th>\n",
       "      <td>8221.682783</td>\n",
       "      <td>2144.757862</td>\n",
       "      <td>4.835226e+07</td>\n",
       "      <td>12063.010220</td>\n",
       "      <td>175.843160</td>\n",
       "      <td>112.062893</td>\n",
       "      <td>1.333333</td>\n",
       "      <td>5.369628e+07</td>\n",
       "      <td>9312.364387</td>\n",
       "      <td>328.541667</td>\n",
       "      <td>100610.874214</td>\n",
       "      <td>6.428066</td>\n",
       "      <td>0</td>\n",
       "      <td>0</td>\n",
       "      <td>1</td>\n",
       "      <td>0</td>\n",
       "    </tr>\n",
       "    <tr>\n",
       "      <th>OK</th>\n",
       "      <td>6226.270600</td>\n",
       "      <td>1499.191251</td>\n",
       "      <td>3.685649e+07</td>\n",
       "      <td>9388.701933</td>\n",
       "      <td>120.329603</td>\n",
       "      <td>100.534079</td>\n",
       "      <td>1.557477</td>\n",
       "      <td>3.730228e+07</td>\n",
       "      <td>3845.633774</td>\n",
       "      <td>212.310275</td>\n",
       "      <td>40772.887080</td>\n",
       "      <td>4.779247</td>\n",
       "      <td>0</td>\n",
       "      <td>0</td>\n",
       "      <td>0</td>\n",
       "      <td>1</td>\n",
       "    </tr>\n",
       "  </tbody>\n",
       "</table>\n",
       "</div>"
      ],
      "text/plain": [
       "             act1_likes   act2_likes        budget    cast_likes  \\\n",
       "imdb_score                                                         \n",
       "BAD         2513.112360   662.000000  2.698202e+07   4437.337079   \n",
       "EXCELLENT   9726.730233  3006.195349  5.866073e+07  15455.572093   \n",
       "GOOD        8221.682783  2144.757862  4.835226e+07  12063.010220   \n",
       "OK          6226.270600  1499.191251  3.685649e+07   9388.701933   \n",
       "\n",
       "            critic_reviews         dur  facenumber         gross  \\\n",
       "imdb_score                                                         \n",
       "BAD              76.112360   95.898876    1.606742  1.979152e+07   \n",
       "EXCELLENT       274.855814  134.613953    0.981395  1.067011e+08   \n",
       "GOOD            175.843160  112.062893    1.333333  5.369628e+07   \n",
       "OK              120.329603  100.534079    1.557477  3.730228e+07   \n",
       "\n",
       "             movie_likes  user_reviews    voted_users     score  imdb_BAD  \\\n",
       "imdb_score                                                                  \n",
       "BAD          2146.089888    225.707865   25242.786517  2.685393         1   \n",
       "EXCELLENT   35341.223256    947.153488  463143.669767  8.018605         0   \n",
       "GOOD         9312.364387    328.541667  100610.874214  6.428066         0   \n",
       "OK           3845.633774    212.310275   40772.887080  4.779247         0   \n",
       "\n",
       "            imdb_EXCELLENT  imdb_GOOD  imdb_OK  \n",
       "imdb_score                                      \n",
       "BAD                      0          0        0  \n",
       "EXCELLENT                1          0        0  \n",
       "GOOD                     0          1        0  \n",
       "OK                       0          0        1  "
      ]
     },
     "execution_count": 49,
     "metadata": {},
     "output_type": "execute_result"
    }
   ],
   "source": [
    "# What are the variable averages for each of the IMDB score categories\n",
    "df2.groupby('imdb_score').mean()"
   ]
  },
  {
   "cell_type": "markdown",
   "metadata": {},
   "source": [
    "* ### Critic reviews\n",
    "    * Least - BAD\n",
    "    * Most - EXCELLENT\n",
    "\n",
    "* ### Duration\n",
    "    * Least - BAD\n",
    "    * Most - EXCELLENTT\n",
    "    \n",
    "* ### User reviews\n",
    "    * Least - BAD\n",
    "    * Most - EXCELLENT\n",
    "\n",
    "* ### Voted users\n",
    "    * Least - BAD\n",
    "    * Most - EXCELLENT\n",
    "\n",
    "    \n",
    "**EXCELLENT** movies tend to have more critic reviews, longer durations, more user reviews, and more users who voted. They also tend to have a well liked leading actor, have lower budgets than GOOD or OK movies, have the lowest faces in their posters, have the highest gross, and have the most FB likes for their movie."
   ]
  },
  {
   "cell_type": "markdown",
   "metadata": {},
   "source": [
    "# Clustering"
   ]
  },
  {
   "cell_type": "code",
   "execution_count": 50,
   "metadata": {},
   "outputs": [],
   "source": [
    "#https://www.packtpub.com/big-data-and-business-intelligence/mastering-machine-learning-scikit-learn#\n",
    "\n",
    "import pandas as pd\n",
    "import numpy as np\n",
    "from sklearn.cluster import KMeans\n",
    "from sklearn import cluster\n",
    "import matplotlib.pyplot as plt\n",
    "import mpl_toolkits.mplot3d.axes3d as p3\n",
    "from mpl_toolkits.mplot3d import Axes3D\n",
    "\n",
    "%matplotlib inline\n",
    "\n",
    "from sklearn.metrics.pairwise import pairwise_distances_argmin\n",
    "from scipy.spatial.distance import cdist \n",
    "from sklearn import metrics\n",
    "from sklearn.metrics import silhouette_samples, silhouette_score\n",
    "import matplotlib.cm as cm\n",
    "\n",
    "from sklearn.cluster import AgglomerativeClustering\n",
    "from sklearn.cluster import ward_tree\n",
    "from scipy.cluster.hierarchy import dendrogram, linkage, ward\n",
    "\n",
    "from sklearn import tree"
   ]
  },
  {
   "cell_type": "markdown",
   "metadata": {},
   "source": [
    "## Clustering: Data Prep"
   ]
  },
  {
   "cell_type": "code",
   "execution_count": 51,
   "metadata": {},
   "outputs": [
    {
     "data": {
      "text/plain": [
       "act1                object\n",
       "act1_likes         float64\n",
       "act2                object\n",
       "act2_likes         float64\n",
       "budget             float64\n",
       "cast_likes         float64\n",
       "critic_reviews     float64\n",
       "dur                float64\n",
       "facenumber         float64\n",
       "genres              object\n",
       "gross              float64\n",
       "imdb_score          object\n",
       "movie               object\n",
       "movie_likes        float64\n",
       "rating            category\n",
       "user_reviews       float64\n",
       "voted_users        float64\n",
       "score                int32\n",
       "imdb_BAD             uint8\n",
       "imdb_EXCELLENT       uint8\n",
       "imdb_GOOD            uint8\n",
       "imdb_OK              uint8\n",
       "dtype: object"
      ]
     },
     "execution_count": 51,
     "metadata": {},
     "output_type": "execute_result"
    }
   ],
   "source": [
    "df2.dtypes"
   ]
  },
  {
   "cell_type": "code",
   "execution_count": 52,
   "metadata": {},
   "outputs": [
    {
     "data": {
      "text/html": [
       "<div>\n",
       "<style scoped>\n",
       "    .dataframe tbody tr th:only-of-type {\n",
       "        vertical-align: middle;\n",
       "    }\n",
       "\n",
       "    .dataframe tbody tr th {\n",
       "        vertical-align: top;\n",
       "    }\n",
       "\n",
       "    .dataframe thead th {\n",
       "        text-align: right;\n",
       "    }\n",
       "</style>\n",
       "<table border=\"1\" class=\"dataframe\">\n",
       "  <thead>\n",
       "    <tr style=\"text-align: right;\">\n",
       "      <th></th>\n",
       "      <th>act1</th>\n",
       "      <th>act1_likes</th>\n",
       "      <th>act2</th>\n",
       "      <th>act2_likes</th>\n",
       "      <th>budget</th>\n",
       "      <th>cast_likes</th>\n",
       "      <th>critic_reviews</th>\n",
       "      <th>dur</th>\n",
       "      <th>facenumber</th>\n",
       "      <th>genres</th>\n",
       "      <th>...</th>\n",
       "      <th>movie</th>\n",
       "      <th>movie_likes</th>\n",
       "      <th>rating</th>\n",
       "      <th>user_reviews</th>\n",
       "      <th>voted_users</th>\n",
       "      <th>score</th>\n",
       "      <th>imdb_BAD</th>\n",
       "      <th>imdb_EXCELLENT</th>\n",
       "      <th>imdb_GOOD</th>\n",
       "      <th>imdb_OK</th>\n",
       "    </tr>\n",
       "  </thead>\n",
       "  <tbody>\n",
       "    <tr>\n",
       "      <th>0</th>\n",
       "      <td>CCH Pounder</td>\n",
       "      <td>1000.0</td>\n",
       "      <td>Joel David Moore</td>\n",
       "      <td>936.0</td>\n",
       "      <td>237000000.0</td>\n",
       "      <td>4834.0</td>\n",
       "      <td>723.0</td>\n",
       "      <td>178.0</td>\n",
       "      <td>0.0</td>\n",
       "      <td>Action|Adventure|Fantasy|Sci-Fi</td>\n",
       "      <td>...</td>\n",
       "      <td>Avatar</td>\n",
       "      <td>33000.0</td>\n",
       "      <td>PG-13</td>\n",
       "      <td>3054.0</td>\n",
       "      <td>886204.0</td>\n",
       "      <td>7.0</td>\n",
       "      <td>0</td>\n",
       "      <td>0</td>\n",
       "      <td>1</td>\n",
       "      <td>0</td>\n",
       "    </tr>\n",
       "    <tr>\n",
       "      <th>1</th>\n",
       "      <td>Johnny Depp</td>\n",
       "      <td>40000.0</td>\n",
       "      <td>Orlando Bloom</td>\n",
       "      <td>5000.0</td>\n",
       "      <td>300000000.0</td>\n",
       "      <td>48350.0</td>\n",
       "      <td>302.0</td>\n",
       "      <td>169.0</td>\n",
       "      <td>0.0</td>\n",
       "      <td>Action|Adventure|Fantasy</td>\n",
       "      <td>...</td>\n",
       "      <td>Pirates of the Caribbean: At World's End</td>\n",
       "      <td>0.0</td>\n",
       "      <td>PG-13</td>\n",
       "      <td>1238.0</td>\n",
       "      <td>471220.0</td>\n",
       "      <td>7.0</td>\n",
       "      <td>0</td>\n",
       "      <td>0</td>\n",
       "      <td>1</td>\n",
       "      <td>0</td>\n",
       "    </tr>\n",
       "  </tbody>\n",
       "</table>\n",
       "<p>2 rows × 22 columns</p>\n",
       "</div>"
      ],
      "text/plain": [
       "          act1  act1_likes              act2  act2_likes       budget  \\\n",
       "0  CCH Pounder      1000.0  Joel David Moore       936.0  237000000.0   \n",
       "1  Johnny Depp     40000.0     Orlando Bloom      5000.0  300000000.0   \n",
       "\n",
       "   cast_likes  critic_reviews    dur  facenumber  \\\n",
       "0      4834.0           723.0  178.0         0.0   \n",
       "1     48350.0           302.0  169.0         0.0   \n",
       "\n",
       "                            genres   ...     \\\n",
       "0  Action|Adventure|Fantasy|Sci-Fi   ...      \n",
       "1         Action|Adventure|Fantasy   ...      \n",
       "\n",
       "                                       movie movie_likes rating  user_reviews  \\\n",
       "0                                    Avatar      33000.0  PG-13        3054.0   \n",
       "1  Pirates of the Caribbean: At World's End          0.0  PG-13        1238.0   \n",
       "\n",
       "  voted_users  score  imdb_BAD  imdb_EXCELLENT  imdb_GOOD  imdb_OK  \n",
       "0    886204.0    7.0         0               0          1        0  \n",
       "1    471220.0    7.0         0               0          1        0  \n",
       "\n",
       "[2 rows x 22 columns]"
      ]
     },
     "execution_count": 52,
     "metadata": {},
     "output_type": "execute_result"
    }
   ],
   "source": [
    "# Change dtype to float64\n",
    "df2['cast_likes'] = df2['cast_likes'].astype(float)\n",
    "df2['movie_likes'] = df2['movie_likes'].astype(float)\n",
    "df2['voted_users'] = df2['voted_users'].astype(float)\n",
    "df2['score'] = df2['score'].astype(float)\n",
    "df2.head(2)"
   ]
  },
  {
   "cell_type": "code",
   "execution_count": 53,
   "metadata": {},
   "outputs": [
    {
     "data": {
      "text/html": [
       "<div>\n",
       "<style scoped>\n",
       "    .dataframe tbody tr th:only-of-type {\n",
       "        vertical-align: middle;\n",
       "    }\n",
       "\n",
       "    .dataframe tbody tr th {\n",
       "        vertical-align: top;\n",
       "    }\n",
       "\n",
       "    .dataframe thead th {\n",
       "        text-align: right;\n",
       "    }\n",
       "</style>\n",
       "<table border=\"1\" class=\"dataframe\">\n",
       "  <thead>\n",
       "    <tr style=\"text-align: right;\">\n",
       "      <th></th>\n",
       "      <th>act1_likes</th>\n",
       "      <th>act2_likes</th>\n",
       "      <th>budget</th>\n",
       "      <th>cast_likes</th>\n",
       "      <th>critic_reviews</th>\n",
       "      <th>dur</th>\n",
       "      <th>facenumber</th>\n",
       "      <th>gross</th>\n",
       "      <th>movie_likes</th>\n",
       "      <th>user_reviews</th>\n",
       "      <th>voted_users</th>\n",
       "      <th>score</th>\n",
       "    </tr>\n",
       "  </thead>\n",
       "  <tbody>\n",
       "    <tr>\n",
       "      <th>0</th>\n",
       "      <td>1000.0</td>\n",
       "      <td>936.0</td>\n",
       "      <td>237000000.0</td>\n",
       "      <td>4834.0</td>\n",
       "      <td>723.0</td>\n",
       "      <td>178.0</td>\n",
       "      <td>0.0</td>\n",
       "      <td>760505847.0</td>\n",
       "      <td>33000.0</td>\n",
       "      <td>3054.0</td>\n",
       "      <td>886204.0</td>\n",
       "      <td>7.0</td>\n",
       "    </tr>\n",
       "    <tr>\n",
       "      <th>1</th>\n",
       "      <td>40000.0</td>\n",
       "      <td>5000.0</td>\n",
       "      <td>300000000.0</td>\n",
       "      <td>48350.0</td>\n",
       "      <td>302.0</td>\n",
       "      <td>169.0</td>\n",
       "      <td>0.0</td>\n",
       "      <td>309404152.0</td>\n",
       "      <td>0.0</td>\n",
       "      <td>1238.0</td>\n",
       "      <td>471220.0</td>\n",
       "      <td>7.0</td>\n",
       "    </tr>\n",
       "    <tr>\n",
       "      <th>2</th>\n",
       "      <td>11000.0</td>\n",
       "      <td>393.0</td>\n",
       "      <td>245000000.0</td>\n",
       "      <td>11700.0</td>\n",
       "      <td>602.0</td>\n",
       "      <td>148.0</td>\n",
       "      <td>1.0</td>\n",
       "      <td>200074175.0</td>\n",
       "      <td>85000.0</td>\n",
       "      <td>994.0</td>\n",
       "      <td>275868.0</td>\n",
       "      <td>6.0</td>\n",
       "    </tr>\n",
       "    <tr>\n",
       "      <th>3</th>\n",
       "      <td>27000.0</td>\n",
       "      <td>23000.0</td>\n",
       "      <td>250000000.0</td>\n",
       "      <td>106759.0</td>\n",
       "      <td>813.0</td>\n",
       "      <td>164.0</td>\n",
       "      <td>0.0</td>\n",
       "      <td>448130642.0</td>\n",
       "      <td>164000.0</td>\n",
       "      <td>2701.0</td>\n",
       "      <td>1144337.0</td>\n",
       "      <td>8.0</td>\n",
       "    </tr>\n",
       "    <tr>\n",
       "      <th>5</th>\n",
       "      <td>640.0</td>\n",
       "      <td>632.0</td>\n",
       "      <td>263700000.0</td>\n",
       "      <td>1873.0</td>\n",
       "      <td>462.0</td>\n",
       "      <td>132.0</td>\n",
       "      <td>1.0</td>\n",
       "      <td>73058679.0</td>\n",
       "      <td>24000.0</td>\n",
       "      <td>738.0</td>\n",
       "      <td>212204.0</td>\n",
       "      <td>6.0</td>\n",
       "    </tr>\n",
       "  </tbody>\n",
       "</table>\n",
       "</div>"
      ],
      "text/plain": [
       "   act1_likes  act2_likes       budget  cast_likes  critic_reviews    dur  \\\n",
       "0      1000.0       936.0  237000000.0      4834.0           723.0  178.0   \n",
       "1     40000.0      5000.0  300000000.0     48350.0           302.0  169.0   \n",
       "2     11000.0       393.0  245000000.0     11700.0           602.0  148.0   \n",
       "3     27000.0     23000.0  250000000.0    106759.0           813.0  164.0   \n",
       "5       640.0       632.0  263700000.0      1873.0           462.0  132.0   \n",
       "\n",
       "   facenumber        gross  movie_likes  user_reviews  voted_users  score  \n",
       "0         0.0  760505847.0      33000.0        3054.0     886204.0    7.0  \n",
       "1         0.0  309404152.0          0.0        1238.0     471220.0    7.0  \n",
       "2         1.0  200074175.0      85000.0         994.0     275868.0    6.0  \n",
       "3         0.0  448130642.0     164000.0        2701.0    1144337.0    8.0  \n",
       "5         1.0   73058679.0      24000.0         738.0     212204.0    6.0  "
      ]
     },
     "execution_count": 53,
     "metadata": {},
     "output_type": "execute_result"
    }
   ],
   "source": [
    "# remove  columns\n",
    "df3 = df2.drop(['act1','act2','genres','movie','rating','imdb_score','imdb_BAD', 'imdb_EXCELLENT', 'imdb_GOOD', 'imdb_OK' ], axis=1)\n",
    "df3.head()"
   ]
  },
  {
   "cell_type": "markdown",
   "metadata": {},
   "source": [
    "df['budget'] = df['budget'].astype(float)\n",
    "df['critic_reviews'] = df['critic_reviews'].astype(float)\n",
    "df['gross'] = df['gross'].astype(float)\n",
    "df['user_reviews'] = df['user_reviews'].astype(float)\n",
    "df['act1_likes'] = df['act1_likes'].astype(float)\n",
    "df['act2_likes'] = df['act2_likes'].astype(float)\n",
    "df['facenumber'] = df['facenumber'].astype(float)\n",
    "df['dur'] = df['dur'].astype(float)\n",
    "df['imdb_score'] = df['imdb_score'].astype(int)"
   ]
  },
  {
   "cell_type": "code",
   "execution_count": 54,
   "metadata": {},
   "outputs": [
    {
     "data": {
      "text/plain": [
       "act1_likes        2.384003e+08\n",
       "act2_likes        2.034453e+07\n",
       "budget            5.011673e+16\n",
       "cast_likes        3.615221e+08\n",
       "critic_reviews    1.528928e+04\n",
       "dur               5.094788e+02\n",
       "facenumber        4.166113e+00\n",
       "gross             4.894896e+15\n",
       "movie_likes       4.531979e+08\n",
       "user_reviews      1.675263e+05\n",
       "voted_users       2.285919e+10\n",
       "score             1.202558e+00\n",
       "dtype: float64"
      ]
     },
     "execution_count": 54,
     "metadata": {},
     "output_type": "execute_result"
    }
   ],
   "source": [
    "df3.var()"
   ]
  },
  {
   "cell_type": "code",
   "execution_count": 55,
   "metadata": {},
   "outputs": [
    {
     "data": {
      "text/html": [
       "<div>\n",
       "<style scoped>\n",
       "    .dataframe tbody tr th:only-of-type {\n",
       "        vertical-align: middle;\n",
       "    }\n",
       "\n",
       "    .dataframe tbody tr th {\n",
       "        vertical-align: top;\n",
       "    }\n",
       "\n",
       "    .dataframe thead th {\n",
       "        text-align: right;\n",
       "    }\n",
       "</style>\n",
       "<table border=\"1\" class=\"dataframe\">\n",
       "  <thead>\n",
       "    <tr style=\"text-align: right;\">\n",
       "      <th></th>\n",
       "      <th>act1_likes</th>\n",
       "      <th>act2_likes</th>\n",
       "      <th>budget</th>\n",
       "      <th>cast_likes</th>\n",
       "      <th>critic_reviews</th>\n",
       "      <th>dur</th>\n",
       "      <th>facenumber</th>\n",
       "      <th>gross</th>\n",
       "      <th>movie_likes</th>\n",
       "      <th>user_reviews</th>\n",
       "      <th>voted_users</th>\n",
       "      <th>score</th>\n",
       "    </tr>\n",
       "  </thead>\n",
       "  <tbody>\n",
       "    <tr>\n",
       "      <th>0</th>\n",
       "      <td>-0.010409</td>\n",
       "      <td>-0.007715</td>\n",
       "      <td>0.015678</td>\n",
       "      <td>-0.009983</td>\n",
       "      <td>0.687391</td>\n",
       "      <td>0.232100</td>\n",
       "      <td>-0.032034</td>\n",
       "      <td>0.932050</td>\n",
       "      <td>0.068184</td>\n",
       "      <td>0.538240</td>\n",
       "      <td>0.463001</td>\n",
       "      <td>0.124086</td>\n",
       "    </tr>\n",
       "    <tr>\n",
       "      <th>1</th>\n",
       "      <td>0.050529</td>\n",
       "      <td>0.021949</td>\n",
       "      <td>0.020835</td>\n",
       "      <td>0.056279</td>\n",
       "      <td>0.168918</td>\n",
       "      <td>0.201383</td>\n",
       "      <td>-0.032034</td>\n",
       "      <td>0.338890</td>\n",
       "      <td>-0.026372</td>\n",
       "      <td>0.179275</td>\n",
       "      <td>0.217411</td>\n",
       "      <td>0.124086</td>\n",
       "    </tr>\n",
       "    <tr>\n",
       "      <th>2</th>\n",
       "      <td>0.005216</td>\n",
       "      <td>-0.011679</td>\n",
       "      <td>0.016333</td>\n",
       "      <td>0.000472</td>\n",
       "      <td>0.538376</td>\n",
       "      <td>0.129711</td>\n",
       "      <td>-0.008778</td>\n",
       "      <td>0.195130</td>\n",
       "      <td>0.217181</td>\n",
       "      <td>0.131044</td>\n",
       "      <td>0.101800</td>\n",
       "      <td>-0.000914</td>\n",
       "    </tr>\n",
       "    <tr>\n",
       "      <th>3</th>\n",
       "      <td>0.030216</td>\n",
       "      <td>0.153336</td>\n",
       "      <td>0.016742</td>\n",
       "      <td>0.145218</td>\n",
       "      <td>0.798228</td>\n",
       "      <td>0.184318</td>\n",
       "      <td>-0.032034</td>\n",
       "      <td>0.521303</td>\n",
       "      <td>0.443542</td>\n",
       "      <td>0.468463</td>\n",
       "      <td>0.615766</td>\n",
       "      <td>0.249086</td>\n",
       "    </tr>\n",
       "    <tr>\n",
       "      <th>5</th>\n",
       "      <td>-0.010971</td>\n",
       "      <td>-0.009934</td>\n",
       "      <td>0.017864</td>\n",
       "      <td>-0.014492</td>\n",
       "      <td>0.365962</td>\n",
       "      <td>0.075103</td>\n",
       "      <td>-0.008778</td>\n",
       "      <td>0.028115</td>\n",
       "      <td>0.042396</td>\n",
       "      <td>0.080442</td>\n",
       "      <td>0.064124</td>\n",
       "      <td>-0.000914</td>\n",
       "    </tr>\n",
       "  </tbody>\n",
       "</table>\n",
       "</div>"
      ],
      "text/plain": [
       "   act1_likes  act2_likes    budget  cast_likes  critic_reviews       dur  \\\n",
       "0   -0.010409   -0.007715  0.015678   -0.009983        0.687391  0.232100   \n",
       "1    0.050529    0.021949  0.020835    0.056279        0.168918  0.201383   \n",
       "2    0.005216   -0.011679  0.016333    0.000472        0.538376  0.129711   \n",
       "3    0.030216    0.153336  0.016742    0.145218        0.798228  0.184318   \n",
       "5   -0.010971   -0.009934  0.017864   -0.014492        0.365962  0.075103   \n",
       "\n",
       "   facenumber     gross  movie_likes  user_reviews  voted_users     score  \n",
       "0   -0.032034  0.932050     0.068184      0.538240     0.463001  0.124086  \n",
       "1   -0.032034  0.338890    -0.026372      0.179275     0.217411  0.124086  \n",
       "2   -0.008778  0.195130     0.217181      0.131044     0.101800 -0.000914  \n",
       "3   -0.032034  0.521303     0.443542      0.468463     0.615766  0.249086  \n",
       "5   -0.008778  0.028115     0.042396      0.080442     0.064124 -0.000914  "
      ]
     },
     "execution_count": 55,
     "metadata": {},
     "output_type": "execute_result"
    }
   ],
   "source": [
    "#Normalization\n",
    "df3_norm = (df3 - df3.mean()) / (df3.max() - df3.min())\n",
    "df3_norm.head()"
   ]
  },
  {
   "cell_type": "code",
   "execution_count": 56,
   "metadata": {},
   "outputs": [
    {
     "data": {
      "text/plain": [
       "act1_likes        0.000582\n",
       "act2_likes        0.001084\n",
       "budget            0.000336\n",
       "cast_likes        0.000838\n",
       "critic_reviews    0.023189\n",
       "dur               0.005935\n",
       "facenumber        0.002253\n",
       "gross             0.008463\n",
       "movie_likes       0.003721\n",
       "user_reviews      0.006546\n",
       "voted_users       0.008006\n",
       "score             0.018790\n",
       "dtype: float64"
      ]
     },
     "execution_count": 56,
     "metadata": {},
     "output_type": "execute_result"
    }
   ],
   "source": [
    "df3_norm.var()"
   ]
  },
  {
   "cell_type": "code",
   "execution_count": 57,
   "metadata": {},
   "outputs": [
    {
     "data": {
      "text/plain": [
       "Text(0.5,1,'Selecting k with the Elbow Method')"
      ]
     },
     "execution_count": 57,
     "metadata": {},
     "output_type": "execute_result"
    },
    {
     "data": {
      "image/png": "[encoded data removed]",
      "text/plain": [
       "<Figure size 432x288 with 1 Axes>"
      ]
     },
     "metadata": {},
     "output_type": "display_data"
    }
   ],
   "source": [
    "#The Elbow method\n",
    "\n",
    "#https://www.packtpub.com/big-data-and-business-intelligence/mastering-machine-learning-scikit-learn#\n",
    "\n",
    "#http://docs.scipy.org/doc/scipy/reference/spatial.distance.html\n",
    "#Computes distance between each pair of the two collections of inputs\n",
    "from scipy.spatial.distance import cdist \n",
    "\n",
    "K = range(1, 10) \n",
    "\n",
    "meandistortions = []\n",
    "\n",
    "for k in K: \n",
    "    kmeans = KMeans(n_clusters=k, random_state=1) \n",
    "    kmeans.fit(df3_norm) \n",
    "    meandistortions.append(sum(np.min(cdist(df3_norm, kmeans.cluster_centers_, 'euclidean'), axis=1)) / df3_norm.shape[0]) \n",
    "\n",
    "plt.plot(K, meandistortions, 'bx-') \n",
    "plt.xlabel('k') \n",
    "plt.ylabel('Average distortion') \n",
    "plt.title('Selecting k with the Elbow Method') "
   ]
  },
  {
   "cell_type": "code",
   "execution_count": 58,
   "metadata": {},
   "outputs": [
    {
     "data": {
      "text/plain": [
       "KMeans(algorithm='auto', copy_x=True, init='k-means++', max_iter=300,\n",
       "    n_clusters=5, n_init=10, n_jobs=1, precompute_distances='auto',\n",
       "    random_state=0, tol=0.0001, verbose=0)"
      ]
     },
     "execution_count": 58,
     "metadata": {},
     "output_type": "execute_result"
    }
   ],
   "source": [
    "# clustering analysis using k-means\n",
    "\n",
    "k_means = KMeans(init='k-means++', n_clusters=5, random_state=0)\n",
    "k_means.fit(df3_norm)"
   ]
  },
  {
   "cell_type": "code",
   "execution_count": 59,
   "metadata": {},
   "outputs": [
    {
     "data": {
      "text/plain": [
       "array([1, 1, 2, ..., 0, 0, 0])"
      ]
     },
     "execution_count": 59,
     "metadata": {},
     "output_type": "execute_result"
    }
   ],
   "source": [
    "k_means.labels_"
   ]
  },
  {
   "cell_type": "code",
   "execution_count": 60,
   "metadata": {},
   "outputs": [
    {
     "data": {
      "text/plain": [
       "array([[-0.00338706, -0.0050892 , -0.00142525, -0.00522482, -0.09584655,\n",
       "        -0.00072692, -0.00062343, -0.03388611, -0.0225599 , -0.03542548,\n",
       "        -0.03962639,  0.04225796],\n",
       "       [ 0.00788294,  0.02465039,  0.00549807,  0.0176594 ,  0.27077833,\n",
       "         0.10614184, -0.01184936,  0.25253271,  0.09624217,  0.25200334,\n",
       "         0.29851355,  0.18304866],\n",
       "       [ 0.0075372 ,  0.01657969,  0.00480943,  0.01272126,  0.29956058,\n",
       "         0.02281086,  0.00502605,  0.05218765,  0.10507259,  0.04384941,\n",
       "         0.07003779,  0.06268289],\n",
       "       [ 0.0040005 ,  0.00320003,  0.00044913,  0.00461671,  0.06026004,\n",
       "         0.01278052, -0.00404012,  0.01367736, -0.00116135,  0.02227643,\n",
       "         0.02304928,  0.06740178],\n",
       "       [-0.00348389, -0.00621771, -0.00110553, -0.00502897, -0.08127439,\n",
       "        -0.03751091,  0.00522311, -0.02748043, -0.02047906, -0.03135592,\n",
       "        -0.04314941, -0.17910238]])"
      ]
     },
     "execution_count": 60,
     "metadata": {},
     "output_type": "execute_result"
    }
   ],
   "source": [
    "k_means.cluster_centers_"
   ]
  },
  {
   "cell_type": "code",
   "execution_count": 61,
   "metadata": {},
   "outputs": [
    {
     "data": {
      "text/html": [
       "<div>\n",
       "<style scoped>\n",
       "    .dataframe tbody tr th:only-of-type {\n",
       "        vertical-align: middle;\n",
       "    }\n",
       "\n",
       "    .dataframe tbody tr th {\n",
       "        vertical-align: top;\n",
       "    }\n",
       "\n",
       "    .dataframe thead th {\n",
       "        text-align: right;\n",
       "    }\n",
       "</style>\n",
       "<table border=\"1\" class=\"dataframe\">\n",
       "  <thead>\n",
       "    <tr style=\"text-align: right;\">\n",
       "      <th></th>\n",
       "      <th>cluster</th>\n",
       "    </tr>\n",
       "  </thead>\n",
       "  <tbody>\n",
       "    <tr>\n",
       "      <th>0</th>\n",
       "      <td>1</td>\n",
       "    </tr>\n",
       "    <tr>\n",
       "      <th>1</th>\n",
       "      <td>1</td>\n",
       "    </tr>\n",
       "    <tr>\n",
       "      <th>2</th>\n",
       "      <td>2</td>\n",
       "    </tr>\n",
       "    <tr>\n",
       "      <th>3</th>\n",
       "      <td>1</td>\n",
       "    </tr>\n",
       "    <tr>\n",
       "      <th>4</th>\n",
       "      <td>2</td>\n",
       "    </tr>\n",
       "  </tbody>\n",
       "</table>\n",
       "</div>"
      ],
      "text/plain": [
       "   cluster\n",
       "0        1\n",
       "1        1\n",
       "2        2\n",
       "3        1\n",
       "4        2"
      ]
     },
     "execution_count": 61,
     "metadata": {},
     "output_type": "execute_result"
    }
   ],
   "source": [
    "# convert cluster lables to dataframe\n",
    "\n",
    "df4 = pd.DataFrame(k_means.labels_, columns = ['cluster'])\n",
    "df4.head()"
   ]
  },
  {
   "cell_type": "code",
   "execution_count": 62,
   "metadata": {},
   "outputs": [
    {
     "data": {
      "text/html": [
       "<div>\n",
       "<style scoped>\n",
       "    .dataframe tbody tr th:only-of-type {\n",
       "        vertical-align: middle;\n",
       "    }\n",
       "\n",
       "    .dataframe tbody tr th {\n",
       "        vertical-align: top;\n",
       "    }\n",
       "\n",
       "    .dataframe thead th {\n",
       "        text-align: right;\n",
       "    }\n",
       "</style>\n",
       "<table border=\"1\" class=\"dataframe\">\n",
       "  <thead>\n",
       "    <tr style=\"text-align: right;\">\n",
       "      <th></th>\n",
       "      <th>act1_likes</th>\n",
       "      <th>act2_likes</th>\n",
       "      <th>budget</th>\n",
       "      <th>cast_likes</th>\n",
       "      <th>critic_reviews</th>\n",
       "      <th>dur</th>\n",
       "      <th>facenumber</th>\n",
       "      <th>gross</th>\n",
       "      <th>movie_likes</th>\n",
       "      <th>user_reviews</th>\n",
       "      <th>voted_users</th>\n",
       "      <th>score</th>\n",
       "      <th>cluster</th>\n",
       "    </tr>\n",
       "  </thead>\n",
       "  <tbody>\n",
       "    <tr>\n",
       "      <th>0</th>\n",
       "      <td>1000.0</td>\n",
       "      <td>936.0</td>\n",
       "      <td>237000000.0</td>\n",
       "      <td>4834.0</td>\n",
       "      <td>723.0</td>\n",
       "      <td>178.0</td>\n",
       "      <td>0.0</td>\n",
       "      <td>760505847.0</td>\n",
       "      <td>33000.0</td>\n",
       "      <td>3054.0</td>\n",
       "      <td>886204.0</td>\n",
       "      <td>7.0</td>\n",
       "      <td>1</td>\n",
       "    </tr>\n",
       "    <tr>\n",
       "      <th>1</th>\n",
       "      <td>40000.0</td>\n",
       "      <td>5000.0</td>\n",
       "      <td>300000000.0</td>\n",
       "      <td>48350.0</td>\n",
       "      <td>302.0</td>\n",
       "      <td>169.0</td>\n",
       "      <td>0.0</td>\n",
       "      <td>309404152.0</td>\n",
       "      <td>0.0</td>\n",
       "      <td>1238.0</td>\n",
       "      <td>471220.0</td>\n",
       "      <td>7.0</td>\n",
       "      <td>1</td>\n",
       "    </tr>\n",
       "    <tr>\n",
       "      <th>2</th>\n",
       "      <td>11000.0</td>\n",
       "      <td>393.0</td>\n",
       "      <td>245000000.0</td>\n",
       "      <td>11700.0</td>\n",
       "      <td>602.0</td>\n",
       "      <td>148.0</td>\n",
       "      <td>1.0</td>\n",
       "      <td>200074175.0</td>\n",
       "      <td>85000.0</td>\n",
       "      <td>994.0</td>\n",
       "      <td>275868.0</td>\n",
       "      <td>6.0</td>\n",
       "      <td>2</td>\n",
       "    </tr>\n",
       "    <tr>\n",
       "      <th>3</th>\n",
       "      <td>27000.0</td>\n",
       "      <td>23000.0</td>\n",
       "      <td>250000000.0</td>\n",
       "      <td>106759.0</td>\n",
       "      <td>813.0</td>\n",
       "      <td>164.0</td>\n",
       "      <td>0.0</td>\n",
       "      <td>448130642.0</td>\n",
       "      <td>164000.0</td>\n",
       "      <td>2701.0</td>\n",
       "      <td>1144337.0</td>\n",
       "      <td>8.0</td>\n",
       "      <td>1</td>\n",
       "    </tr>\n",
       "    <tr>\n",
       "      <th>4</th>\n",
       "      <td>640.0</td>\n",
       "      <td>632.0</td>\n",
       "      <td>263700000.0</td>\n",
       "      <td>1873.0</td>\n",
       "      <td>462.0</td>\n",
       "      <td>132.0</td>\n",
       "      <td>1.0</td>\n",
       "      <td>73058679.0</td>\n",
       "      <td>24000.0</td>\n",
       "      <td>738.0</td>\n",
       "      <td>212204.0</td>\n",
       "      <td>6.0</td>\n",
       "      <td>2</td>\n",
       "    </tr>\n",
       "  </tbody>\n",
       "</table>\n",
       "</div>"
      ],
      "text/plain": [
       "   act1_likes  act2_likes       budget  cast_likes  critic_reviews    dur  \\\n",
       "0      1000.0       936.0  237000000.0      4834.0           723.0  178.0   \n",
       "1     40000.0      5000.0  300000000.0     48350.0           302.0  169.0   \n",
       "2     11000.0       393.0  245000000.0     11700.0           602.0  148.0   \n",
       "3     27000.0     23000.0  250000000.0    106759.0           813.0  164.0   \n",
       "4       640.0       632.0  263700000.0      1873.0           462.0  132.0   \n",
       "\n",
       "   facenumber        gross  movie_likes  user_reviews  voted_users  score  \\\n",
       "0         0.0  760505847.0      33000.0        3054.0     886204.0    7.0   \n",
       "1         0.0  309404152.0          0.0        1238.0     471220.0    7.0   \n",
       "2         1.0  200074175.0      85000.0         994.0     275868.0    6.0   \n",
       "3         0.0  448130642.0     164000.0        2701.0    1144337.0    8.0   \n",
       "4         1.0   73058679.0      24000.0         738.0     212204.0    6.0   \n",
       "\n",
       "   cluster  \n",
       "0        1  \n",
       "1        1  \n",
       "2        2  \n",
       "3        1  \n",
       "4        2  "
      ]
     },
     "execution_count": 62,
     "metadata": {},
     "output_type": "execute_result"
    }
   ],
   "source": [
    "df3 = df3.reset_index(drop=True)\n",
    "df4 = df4.reset_index(drop=True)\n",
    "\n",
    "df5 = df3.join(df4)\n",
    "df5.head()"
   ]
  },
  {
   "cell_type": "code",
   "execution_count": 63,
   "metadata": {
    "scrolled": true
   },
   "outputs": [
    {
     "data": {
      "text/html": [
       "<div>\n",
       "<style scoped>\n",
       "    .dataframe tbody tr th:only-of-type {\n",
       "        vertical-align: middle;\n",
       "    }\n",
       "\n",
       "    .dataframe tbody tr th {\n",
       "        vertical-align: top;\n",
       "    }\n",
       "\n",
       "    .dataframe thead th {\n",
       "        text-align: right;\n",
       "    }\n",
       "</style>\n",
       "<table border=\"1\" class=\"dataframe\">\n",
       "  <thead>\n",
       "    <tr style=\"text-align: right;\">\n",
       "      <th></th>\n",
       "      <th>act1_likes</th>\n",
       "      <th>act2_likes</th>\n",
       "      <th>budget</th>\n",
       "      <th>cast_likes</th>\n",
       "      <th>critic_reviews</th>\n",
       "      <th>dur</th>\n",
       "      <th>facenumber</th>\n",
       "      <th>gross</th>\n",
       "      <th>movie_likes</th>\n",
       "      <th>user_reviews</th>\n",
       "      <th>voted_users</th>\n",
       "      <th>score</th>\n",
       "      <th>cluster</th>\n",
       "    </tr>\n",
       "  </thead>\n",
       "  <tbody>\n",
       "    <tr>\n",
       "      <th>3826</th>\n",
       "      <td>291.0</td>\n",
       "      <td>45.0</td>\n",
       "      <td>7000.0</td>\n",
       "      <td>368.0</td>\n",
       "      <td>143.0</td>\n",
       "      <td>77.0</td>\n",
       "      <td>0.0</td>\n",
       "      <td>424760.0</td>\n",
       "      <td>19000.0</td>\n",
       "      <td>371.0</td>\n",
       "      <td>72639.0</td>\n",
       "      <td>7.0</td>\n",
       "      <td>0</td>\n",
       "    </tr>\n",
       "    <tr>\n",
       "      <th>3827</th>\n",
       "      <td>0.0</td>\n",
       "      <td>0.0</td>\n",
       "      <td>7000.0</td>\n",
       "      <td>0.0</td>\n",
       "      <td>35.0</td>\n",
       "      <td>80.0</td>\n",
       "      <td>0.0</td>\n",
       "      <td>70071.0</td>\n",
       "      <td>74.0</td>\n",
       "      <td>35.0</td>\n",
       "      <td>589.0</td>\n",
       "      <td>6.0</td>\n",
       "      <td>0</td>\n",
       "    </tr>\n",
       "    <tr>\n",
       "      <th>3828</th>\n",
       "      <td>121.0</td>\n",
       "      <td>20.0</td>\n",
       "      <td>7000.0</td>\n",
       "      <td>147.0</td>\n",
       "      <td>56.0</td>\n",
       "      <td>81.0</td>\n",
       "      <td>0.0</td>\n",
       "      <td>2040920.0</td>\n",
       "      <td>0.0</td>\n",
       "      <td>130.0</td>\n",
       "      <td>52055.0</td>\n",
       "      <td>6.0</td>\n",
       "      <td>0</td>\n",
       "    </tr>\n",
       "    <tr>\n",
       "      <th>3829</th>\n",
       "      <td>296.0</td>\n",
       "      <td>205.0</td>\n",
       "      <td>9000.0</td>\n",
       "      <td>690.0</td>\n",
       "      <td>14.0</td>\n",
       "      <td>95.0</td>\n",
       "      <td>1.0</td>\n",
       "      <td>4584.0</td>\n",
       "      <td>413.0</td>\n",
       "      <td>14.0</td>\n",
       "      <td>1338.0</td>\n",
       "      <td>6.0</td>\n",
       "      <td>0</td>\n",
       "    </tr>\n",
       "    <tr>\n",
       "      <th>3830</th>\n",
       "      <td>86.0</td>\n",
       "      <td>23.0</td>\n",
       "      <td>1100.0</td>\n",
       "      <td>163.0</td>\n",
       "      <td>43.0</td>\n",
       "      <td>90.0</td>\n",
       "      <td>0.0</td>\n",
       "      <td>85222.0</td>\n",
       "      <td>456.0</td>\n",
       "      <td>84.0</td>\n",
       "      <td>4285.0</td>\n",
       "      <td>6.0</td>\n",
       "      <td>0</td>\n",
       "    </tr>\n",
       "  </tbody>\n",
       "</table>\n",
       "</div>"
      ],
      "text/plain": [
       "      act1_likes  act2_likes  budget  cast_likes  critic_reviews   dur  \\\n",
       "3826       291.0        45.0  7000.0       368.0           143.0  77.0   \n",
       "3827         0.0         0.0  7000.0         0.0            35.0  80.0   \n",
       "3828       121.0        20.0  7000.0       147.0            56.0  81.0   \n",
       "3829       296.0       205.0  9000.0       690.0            14.0  95.0   \n",
       "3830        86.0        23.0  1100.0       163.0            43.0  90.0   \n",
       "\n",
       "      facenumber      gross  movie_likes  user_reviews  voted_users  score  \\\n",
       "3826         0.0   424760.0      19000.0         371.0      72639.0    7.0   \n",
       "3827         0.0    70071.0         74.0          35.0        589.0    6.0   \n",
       "3828         0.0  2040920.0          0.0         130.0      52055.0    6.0   \n",
       "3829         1.0     4584.0        413.0          14.0       1338.0    6.0   \n",
       "3830         0.0    85222.0        456.0          84.0       4285.0    6.0   \n",
       "\n",
       "      cluster  \n",
       "3826        0  \n",
       "3827        0  \n",
       "3828        0  \n",
       "3829        0  \n",
       "3830        0  "
      ]
     },
     "execution_count": 63,
     "metadata": {},
     "output_type": "execute_result"
    }
   ],
   "source": [
    "df5.tail()"
   ]
  },
  {
   "cell_type": "code",
   "execution_count": 64,
   "metadata": {},
   "outputs": [],
   "source": [
    "# Change score to int to make grouping easier\n",
    "df5['score'] = df5['score'].astype(int)"
   ]
  },
  {
   "cell_type": "code",
   "execution_count": 65,
   "metadata": {},
   "outputs": [
    {
     "data": {
      "text/html": [
       "<div>\n",
       "<style scoped>\n",
       "    .dataframe tbody tr th:only-of-type {\n",
       "        vertical-align: middle;\n",
       "    }\n",
       "\n",
       "    .dataframe tbody tr th {\n",
       "        vertical-align: top;\n",
       "    }\n",
       "\n",
       "    .dataframe thead th {\n",
       "        text-align: right;\n",
       "    }\n",
       "</style>\n",
       "<table border=\"1\" class=\"dataframe\">\n",
       "  <thead>\n",
       "    <tr style=\"text-align: right;\">\n",
       "      <th></th>\n",
       "      <th>act1_likes</th>\n",
       "      <th>act2_likes</th>\n",
       "      <th>budget</th>\n",
       "      <th>cast_likes</th>\n",
       "      <th>critic_reviews</th>\n",
       "      <th>dur</th>\n",
       "      <th>facenumber</th>\n",
       "      <th>gross</th>\n",
       "      <th>movie_likes</th>\n",
       "      <th>user_reviews</th>\n",
       "      <th>voted_users</th>\n",
       "      <th>score</th>\n",
       "    </tr>\n",
       "    <tr>\n",
       "      <th>cluster</th>\n",
       "      <th></th>\n",
       "      <th></th>\n",
       "      <th></th>\n",
       "      <th></th>\n",
       "      <th></th>\n",
       "      <th></th>\n",
       "      <th></th>\n",
       "      <th></th>\n",
       "      <th></th>\n",
       "      <th></th>\n",
       "      <th></th>\n",
       "      <th></th>\n",
       "    </tr>\n",
       "  </thead>\n",
       "  <tbody>\n",
       "    <tr>\n",
       "      <th>0</th>\n",
       "      <td>5493.805869</td>\n",
       "      <td>1295.789315</td>\n",
       "      <td>2.807441e+07</td>\n",
       "      <td>7958.747931</td>\n",
       "      <td>87.011287</td>\n",
       "      <td>109.781791</td>\n",
       "      <td>1.350640</td>\n",
       "      <td>2.590618e+07</td>\n",
       "      <td>1330.528969</td>\n",
       "      <td>151.828442</td>\n",
       "      <td>36893.443943</td>\n",
       "      <td>6.345372</td>\n",
       "    </tr>\n",
       "    <tr>\n",
       "      <th>1</th>\n",
       "      <td>12706.603774</td>\n",
       "      <td>5370.113208</td>\n",
       "      <td>1.126463e+08</td>\n",
       "      <td>22987.503145</td>\n",
       "      <td>384.710692</td>\n",
       "      <td>141.094340</td>\n",
       "      <td>0.867925</td>\n",
       "      <td>2.437293e+08</td>\n",
       "      <td>42792.452830</td>\n",
       "      <td>1605.930818</td>\n",
       "      <td>608262.698113</td>\n",
       "      <td>7.471698</td>\n",
       "    </tr>\n",
       "    <tr>\n",
       "      <th>2</th>\n",
       "      <td>12485.333333</td>\n",
       "      <td>4264.426901</td>\n",
       "      <td>1.042343e+08</td>\n",
       "      <td>19744.479532</td>\n",
       "      <td>408.081871</td>\n",
       "      <td>116.678363</td>\n",
       "      <td>1.593567</td>\n",
       "      <td>9.136576e+07</td>\n",
       "      <td>45874.269006</td>\n",
       "      <td>552.880117</td>\n",
       "      <td>222197.605263</td>\n",
       "      <td>6.508772</td>\n",
       "    </tr>\n",
       "    <tr>\n",
       "      <th>3</th>\n",
       "      <td>10221.841332</td>\n",
       "      <td>2431.413320</td>\n",
       "      <td>5.097096e+07</td>\n",
       "      <td>14421.977473</td>\n",
       "      <td>213.769833</td>\n",
       "      <td>113.739471</td>\n",
       "      <td>1.203722</td>\n",
       "      <td>6.207847e+07</td>\n",
       "      <td>8798.625857</td>\n",
       "      <td>443.742409</td>\n",
       "      <td>142799.153771</td>\n",
       "      <td>6.546523</td>\n",
       "    </tr>\n",
       "    <tr>\n",
       "      <th>4</th>\n",
       "      <td>5431.833673</td>\n",
       "      <td>1141.183673</td>\n",
       "      <td>3.198003e+07</td>\n",
       "      <td>8087.370408</td>\n",
       "      <td>98.843878</td>\n",
       "      <td>99.004082</td>\n",
       "      <td>1.602041</td>\n",
       "      <td>3.077773e+07</td>\n",
       "      <td>2056.742857</td>\n",
       "      <td>172.416327</td>\n",
       "      <td>30940.444898</td>\n",
       "      <td>4.574490</td>\n",
       "    </tr>\n",
       "  </tbody>\n",
       "</table>\n",
       "</div>"
      ],
      "text/plain": [
       "           act1_likes   act2_likes        budget    cast_likes  \\\n",
       "cluster                                                          \n",
       "0         5493.805869  1295.789315  2.807441e+07   7958.747931   \n",
       "1        12706.603774  5370.113208  1.126463e+08  22987.503145   \n",
       "2        12485.333333  4264.426901  1.042343e+08  19744.479532   \n",
       "3        10221.841332  2431.413320  5.097096e+07  14421.977473   \n",
       "4         5431.833673  1141.183673  3.198003e+07   8087.370408   \n",
       "\n",
       "         critic_reviews         dur  facenumber         gross   movie_likes  \\\n",
       "cluster                                                                       \n",
       "0             87.011287  109.781791    1.350640  2.590618e+07   1330.528969   \n",
       "1            384.710692  141.094340    0.867925  2.437293e+08  42792.452830   \n",
       "2            408.081871  116.678363    1.593567  9.136576e+07  45874.269006   \n",
       "3            213.769833  113.739471    1.203722  6.207847e+07   8798.625857   \n",
       "4             98.843878   99.004082    1.602041  3.077773e+07   2056.742857   \n",
       "\n",
       "         user_reviews    voted_users     score  \n",
       "cluster                                         \n",
       "0          151.828442   36893.443943  6.345372  \n",
       "1         1605.930818  608262.698113  7.471698  \n",
       "2          552.880117  222197.605263  6.508772  \n",
       "3          443.742409  142799.153771  6.546523  \n",
       "4          172.416327   30940.444898  4.574490  "
      ]
     },
     "execution_count": 65,
     "metadata": {},
     "output_type": "execute_result"
    }
   ],
   "source": [
    "df5.groupby('cluster').mean()"
   ]
  },
  {
   "cell_type": "code",
   "execution_count": 66,
   "metadata": {},
   "outputs": [
    {
     "data": {
      "text/plain": [
       "cluster\n",
       "0    1329\n",
       "1     159\n",
       "2     342\n",
       "3    1021\n",
       "4     980\n",
       "dtype: int64"
      ]
     },
     "execution_count": 66,
     "metadata": {},
     "output_type": "execute_result"
    }
   ],
   "source": [
    "df5.groupby(['cluster']).size()\n",
    "#which cluster is the largest"
   ]
  },
  {
   "cell_type": "markdown",
   "metadata": {},
   "source": [
    "## Classification: Data Visualization"
   ]
  },
  {
   "cell_type": "code",
   "execution_count": 67,
   "metadata": {},
   "outputs": [],
   "source": [
    "import pandas as pd\n",
    "import numpy as np\n",
    "import matplotlib.pyplot as plt\n",
    "import seaborn as sns\n",
    "%matplotlib inline\n",
    "\n",
    "from sklearn.cluster import KMeans\n",
    "\n",
    "from sklearn.cluster import AgglomerativeClustering\n",
    "from sklearn.metrics import pairwise_distances"
   ]
  },
  {
   "cell_type": "code",
   "execution_count": 68,
   "metadata": {
    "scrolled": false
   },
   "outputs": [
    {
     "data": {
      "text/plain": [
       "<seaborn.axisgrid.FacetGrid at 0x15170dd8>"
      ]
     },
     "execution_count": 68,
     "metadata": {},
     "output_type": "execute_result"
    },
    {
     "data": {
      "image/png": "[encoded data removed]",
      "text/plain": [
       "<Figure size 360x360 with 1 Axes>"
      ]
     },
     "metadata": {},
     "output_type": "display_data"
    }
   ],
   "source": [
    "sns.lmplot(\"cluster\", \"critic_reviews\", df5, x_jitter=.15, y_jitter=.15)"
   ]
  },
  {
   "cell_type": "code",
   "execution_count": 69,
   "metadata": {
    "scrolled": true
   },
   "outputs": [
    {
     "data": {
      "text/plain": [
       "<seaborn.axisgrid.FacetGrid at 0x14f3d978>"
      ]
     },
     "execution_count": 69,
     "metadata": {},
     "output_type": "execute_result"
    },
    {
     "data": {
      "image/png": "[encoded data removed]",
      "text/plain": [
       "<Figure size 360x360 with 1 Axes>"
      ]
     },
     "metadata": {},
     "output_type": "display_data"
    }
   ],
   "source": [
    "sns.lmplot(\"cluster\", \"dur\", df5, x_jitter=.15, y_jitter=.15)"
   ]
  },
  {
   "cell_type": "code",
   "execution_count": 70,
   "metadata": {
    "scrolled": true
   },
   "outputs": [
    {
     "data": {
      "text/plain": [
       "<seaborn.axisgrid.FacetGrid at 0x14f5d5f8>"
      ]
     },
     "execution_count": 70,
     "metadata": {},
     "output_type": "execute_result"
    },
    {
     "data": {
      "image/png": "[encoded data removed]",
      "text/plain": [
       "<Figure size 360x360 with 1 Axes>"
      ]
     },
     "metadata": {},
     "output_type": "display_data"
    }
   ],
   "source": [
    "sns.lmplot(\"cluster\", \"user_reviews\", df5, x_jitter=.15, y_jitter=.15)"
   ]
  },
  {
   "cell_type": "code",
   "execution_count": 71,
   "metadata": {
    "scrolled": true
   },
   "outputs": [
    {
     "data": {
      "text/plain": [
       "<seaborn.axisgrid.FacetGrid at 0x14f5d4e0>"
      ]
     },
     "execution_count": 71,
     "metadata": {},
     "output_type": "execute_result"
    },
    {
     "data": {
      "image/png": "[encoded data removed]",
      "text/plain": [
       "<Figure size 360x360 with 1 Axes>"
      ]
     },
     "metadata": {},
     "output_type": "display_data"
    }
   ],
   "source": [
    "sns.lmplot(\"cluster\", \"voted_users\", df5, x_jitter=.15, y_jitter=.15)"
   ]
  },
  {
   "cell_type": "code",
   "execution_count": 72,
   "metadata": {},
   "outputs": [
    {
     "data": {
      "text/plain": [
       "<matplotlib.axes._subplots.AxesSubplot at 0x15aa0e80>"
      ]
     },
     "execution_count": 72,
     "metadata": {},
     "output_type": "execute_result"
    },
    {
     "data": {
      "image/png": "[encoded data removed]",
      "text/plain": [
       "<Figure size 576x576 with 1 Axes>"
      ]
     },
     "metadata": {},
     "output_type": "display_data"
    }
   ],
   "source": [
    "from pandas.plotting import radviz\n",
    "\n",
    "plt.figure(figsize=(8,8))\n",
    "radviz(df5, \"cluster\")"
   ]
  },
  {
   "cell_type": "code",
   "execution_count": 73,
   "metadata": {},
   "outputs": [
    {
     "data": {
      "text/plain": [
       "<matplotlib.axes._subplots.AxesSubplot at 0x1394a358>"
      ]
     },
     "execution_count": 73,
     "metadata": {},
     "output_type": "execute_result"
    },
    {
     "data": {
      "image/png": "[encoded data removed]",
      "text/plain": [
       "<Figure size 720x720 with 1 Axes>"
      ]
     },
     "metadata": {},
     "output_type": "display_data"
    }
   ],
   "source": [
    "from pandas.plotting import parallel_coordinates\n",
    "\n",
    "plt.figure(figsize=(10,10))\n",
    "parallel_coordinates(df5, 'cluster')"
   ]
  },
  {
   "cell_type": "code",
   "execution_count": 74,
   "metadata": {},
   "outputs": [
    {
     "data": {
      "text/html": [
       "<div>\n",
       "<style scoped>\n",
       "    .dataframe tbody tr th:only-of-type {\n",
       "        vertical-align: middle;\n",
       "    }\n",
       "\n",
       "    .dataframe tbody tr th {\n",
       "        vertical-align: top;\n",
       "    }\n",
       "\n",
       "    .dataframe thead th {\n",
       "        text-align: right;\n",
       "    }\n",
       "</style>\n",
       "<table border=\"1\" class=\"dataframe\">\n",
       "  <thead>\n",
       "    <tr style=\"text-align: right;\">\n",
       "      <th></th>\n",
       "      <th>act1_likes</th>\n",
       "      <th>act2_likes</th>\n",
       "      <th>budget</th>\n",
       "      <th>cast_likes</th>\n",
       "      <th>critic_reviews</th>\n",
       "      <th>dur</th>\n",
       "      <th>facenumber</th>\n",
       "      <th>gross</th>\n",
       "      <th>movie_likes</th>\n",
       "      <th>user_reviews</th>\n",
       "      <th>voted_users</th>\n",
       "      <th>score</th>\n",
       "    </tr>\n",
       "  </thead>\n",
       "  <tbody>\n",
       "    <tr>\n",
       "      <th>0</th>\n",
       "      <td>1000.0</td>\n",
       "      <td>936.0</td>\n",
       "      <td>237000000.0</td>\n",
       "      <td>4834.0</td>\n",
       "      <td>723.0</td>\n",
       "      <td>178.0</td>\n",
       "      <td>0.0</td>\n",
       "      <td>760505847.0</td>\n",
       "      <td>33000.0</td>\n",
       "      <td>3054.0</td>\n",
       "      <td>886204.0</td>\n",
       "      <td>7</td>\n",
       "    </tr>\n",
       "    <tr>\n",
       "      <th>1</th>\n",
       "      <td>40000.0</td>\n",
       "      <td>5000.0</td>\n",
       "      <td>300000000.0</td>\n",
       "      <td>48350.0</td>\n",
       "      <td>302.0</td>\n",
       "      <td>169.0</td>\n",
       "      <td>0.0</td>\n",
       "      <td>309404152.0</td>\n",
       "      <td>0.0</td>\n",
       "      <td>1238.0</td>\n",
       "      <td>471220.0</td>\n",
       "      <td>7</td>\n",
       "    </tr>\n",
       "    <tr>\n",
       "      <th>2</th>\n",
       "      <td>11000.0</td>\n",
       "      <td>393.0</td>\n",
       "      <td>245000000.0</td>\n",
       "      <td>11700.0</td>\n",
       "      <td>602.0</td>\n",
       "      <td>148.0</td>\n",
       "      <td>1.0</td>\n",
       "      <td>200074175.0</td>\n",
       "      <td>85000.0</td>\n",
       "      <td>994.0</td>\n",
       "      <td>275868.0</td>\n",
       "      <td>6</td>\n",
       "    </tr>\n",
       "    <tr>\n",
       "      <th>3</th>\n",
       "      <td>27000.0</td>\n",
       "      <td>23000.0</td>\n",
       "      <td>250000000.0</td>\n",
       "      <td>106759.0</td>\n",
       "      <td>813.0</td>\n",
       "      <td>164.0</td>\n",
       "      <td>0.0</td>\n",
       "      <td>448130642.0</td>\n",
       "      <td>164000.0</td>\n",
       "      <td>2701.0</td>\n",
       "      <td>1144337.0</td>\n",
       "      <td>8</td>\n",
       "    </tr>\n",
       "    <tr>\n",
       "      <th>4</th>\n",
       "      <td>640.0</td>\n",
       "      <td>632.0</td>\n",
       "      <td>263700000.0</td>\n",
       "      <td>1873.0</td>\n",
       "      <td>462.0</td>\n",
       "      <td>132.0</td>\n",
       "      <td>1.0</td>\n",
       "      <td>73058679.0</td>\n",
       "      <td>24000.0</td>\n",
       "      <td>738.0</td>\n",
       "      <td>212204.0</td>\n",
       "      <td>6</td>\n",
       "    </tr>\n",
       "  </tbody>\n",
       "</table>\n",
       "</div>"
      ],
      "text/plain": [
       "   act1_likes  act2_likes       budget  cast_likes  critic_reviews    dur  \\\n",
       "0      1000.0       936.0  237000000.0      4834.0           723.0  178.0   \n",
       "1     40000.0      5000.0  300000000.0     48350.0           302.0  169.0   \n",
       "2     11000.0       393.0  245000000.0     11700.0           602.0  148.0   \n",
       "3     27000.0     23000.0  250000000.0    106759.0           813.0  164.0   \n",
       "4       640.0       632.0  263700000.0      1873.0           462.0  132.0   \n",
       "\n",
       "   facenumber        gross  movie_likes  user_reviews  voted_users  score  \n",
       "0         0.0  760505847.0      33000.0        3054.0     886204.0      7  \n",
       "1         0.0  309404152.0          0.0        1238.0     471220.0      7  \n",
       "2         1.0  200074175.0      85000.0         994.0     275868.0      6  \n",
       "3         0.0  448130642.0     164000.0        2701.0    1144337.0      8  \n",
       "4         1.0   73058679.0      24000.0         738.0     212204.0      6  "
      ]
     },
     "execution_count": 74,
     "metadata": {},
     "output_type": "execute_result"
    }
   ],
   "source": [
    "y = df5['cluster'].values\n",
    "X = df5.drop(['cluster'], axis=1)\n",
    "X.head()"
   ]
  }
 ],
 "metadata": {
  "kernelspec": {
   "display_name": "Python 2",
   "language": "python",
   "name": "python2"
  },
  "language_info": {
   "codemirror_mode": {
    "name": "ipython",
    "version": 2
   },
   "file_extension": ".py",
   "mimetype": "text/x-python",
   "name": "python",
   "nbconvert_exporter": "python",
   "pygments_lexer": "ipython2",
   "version": "2.7.15"
  }
 },
 "nbformat": 4,
 "nbformat_minor": 2
}
